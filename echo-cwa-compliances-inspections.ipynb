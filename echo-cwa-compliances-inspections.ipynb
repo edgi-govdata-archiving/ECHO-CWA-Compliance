{
 "cells": [
  {
   "cell_type": "markdown",
   "metadata": {
    "colab_type": "text",
    "id": "8iHy1AjGsK0w"
   },
   "source": [
    "## Clean Water Act: Inspections\n",
    "### By Congressional District\n",
    "\n",
    "This notebook examines ECHO data on the National Pollutant Discharge Elimination System, or NPDES, which was established under the Clean Water Act to require monitoring and compliance from wastewater treatment plants, factories, and other point sources of water pollution. This notebook uses ECHO_EXPORTER and NPDES_INSPECTIONS.\n",
    "\n",
    "From ECHO_EXPORTER:\n",
    "<ul>\n",
    "    <li>NPDES_IDS - to match facilities/violations in NPDES_INPSECTIONS</li>\n",
    "    <li>FAC_DERIVED_CD113 - 113th congressional district</li>\n",
    "    <li>FAC_LAT and FAC_LONG - latitude and longitude</li>\n",
    "    <li>CWA_PERMIT_TYPES</li>\n",
    "</ul>\n",
    "\n",
    "CWA Permit Types include:\n",
    "<ul>\n",
    "    <li>Major = Publicly Owned Treatment Works (POTW) Handling at least 1 Million gallons per day as well as other major projects.</li>\n",
    "    <li>Minor = Any other project.</li>\n",
    "</ul>\n",
    "\n",
    "From NPDES_INSPECTIONS we get:\n",
    "<ul>\n",
    "    <li>COMP_MONITORING_TYPE - a description of the evaluation</li>\n",
    "    <li>STATE_EPA_FLAG - the agency that conducted the evaluation</li>\n",
    "    <li>ACTUAL_BEGIN_DATE</li>\n",
    "</ul>\n",
    "\n",
    "A state and congressional district must be chosen using the dropdown\n",
    "widgets that are provided."
   ]
  },
  {
   "cell_type": "markdown",
   "metadata": {},
   "source": [
    "---\n",
    "---"
   ]
  },
  {
   "cell_type": "markdown",
   "metadata": {},
   "source": [
    "## How to Run\n",
    "* If you click on a gray **code** cell, a little “play button” arrow appears on the left. If you click the play button, it will run the code in that cell (“**running** a cell”). The button will animate. When the animation stops, the cell has finished running.\n",
    "![Where to click to run the cell](https://github.com/edgi-govdata-archiving/EEW-Image-Assets/blob/master/Jupyter%20instructions/pressplay.JPG?raw=true)\n",
    "* You may get a warning that the notebook was not authored by Google. We know, we authored them! It’s okay. Click “Run Anyway” to continue. \n",
    "![Error Message](https://github.com/edgi-govdata-archiving/EEW-Image-Assets/blob/master/Jupyter%20instructions/warning-message.JPG?raw=true)\n",
    "* **It is important to run cells in order because they depend on each other.**\n",
    "* Some cells, like the one shown below, will create a dropdown menu after you run them. Be sure to make a selection (for example, click to change NY to LA) before running the next cell.\n",
    "![Dropdown menu](https://github.com/edgi-govdata-archiving/EEW-Image-Assets/blob/master/Jupyter%20instructions/dropdown.JPG?raw=true)\n",
    "* Other cells will simply print information when you run them, like this one:\n",
    "![Simple cell](https://github.com/edgi-govdata-archiving/EEW-Image-Assets/blob/master/Jupyter%20instructions/cell-simple.JPG?raw=true)\n",
    "* Run all of the cells in a Notebook to make a complete report. Please feel free to look at and **learn about each result as you create it**!\n",
    "\n",
    "---\n",
    "---"
   ]
  },
  {
   "cell_type": "markdown",
   "metadata": {},
   "source": [
    "# Let's begin! \n",
    "### Hover over the circle on the top left corner of the cell below and you should see a \"play\" button appear. Click on it to run the cell. \n",
    "Doing so will load in some extra code to help us make sense of our ECHO data and when it finishes, you should see your cell grayed out. You can now move on to the next one."
   ]
  },
  {
   "cell_type": "code",
   "execution_count": null,
   "metadata": {
    "colab": {},
    "colab_type": "code",
    "id": "7ZmBRbb_iSrq"
   },
   "outputs": [],
   "source": [
    "# Import libraries\n",
    "import urllib.parse\n",
    "import pandas as pd\n",
    "import numpy as np\n",
    "import matplotlib.pyplot as plt\n",
    "%matplotlib inline\n",
    "import folium\n",
    "\n",
    "from ipywidgets import interact, interactive, fixed, interact_manual\n",
    "import ipywidgets as widgets\n",
    "from IPython.display import display\n"
   ]
  },
  {
   "cell_type": "markdown",
   "metadata": {
    "colab_type": "text",
    "id": "-usf3ETyfhbK"
   },
   "source": [
    "\n",
    "### Run this next cell to create a widget for selecting states. It will create a dropdown menu at the bottom. Choose your state from the menu then move on to the next cell."
   ]
  },
  {
   "cell_type": "code",
   "execution_count": null,
   "metadata": {
    "colab": {
     "base_uri": "https://localhost:8080/",
     "height": 49,
     "referenced_widgets": [
      "09c150c4fd774b0da69e94bc9d3f0d04",
      "2dd8a5cf208245b88ef3edda096b440b",
      "0409358ec94a42a8887903a572b13145"
     ]
    },
    "colab_type": "code",
    "executionInfo": {
     "elapsed": 341,
     "status": "ok",
     "timestamp": 1587587110958,
     "user": {
      "displayName": "Daniel Pascucci",
      "photoUrl": "",
      "userId": "17257141472874634541"
     },
     "user_tz": 240
    },
    "id": "2Go-g5y9jRw5",
    "outputId": "5e0ca6ed-e8ae-40c8-9f63-58dc2b1d7c61"
   },
   "outputs": [],
   "source": [
    "states = [\"AL\", \"AK\", \"AZ\", \"AR\", \"CA\", \"CO\", \"CT\", \"DC\", \"DE\", \"FL\", \"GA\", \n",
    "          \"HI\", \"ID\", \"IL\", \"IN\", \"IA\", \"KS\", \"KY\", \"LA\", \"ME\", \"MD\", \n",
    "          \"MA\", \"MI\", \"MN\", \"MS\", \"MO\", \"MT\", \"NE\", \"NV\", \"NH\", \"NJ\", \n",
    "          \"NM\", \"NY\", \"NC\", \"ND\", \"OH\", \"OK\", \"OR\", \"PA\", \"RI\", \"SC\", \n",
    "          \"SD\", \"TN\", \"TX\", \"UT\", \"VT\", \"VA\", \"WA\", \"WV\", \"WI\", \"WY\"]\n",
    "dropdown_state=widgets.Dropdown(\n",
    "    options=states,\n",
    "    value='NY',\n",
    "    description='State:',\n",
    "    disabled=False,\n",
    ")\n",
    "output_state = widgets.Output()\n",
    "my_state = \"\"\n",
    "\n",
    "def dropdown_state_eventhandler( change ):\n",
    "    output_state.clear_output()\n",
    "    value = change.new\n",
    "    with output_state:\n",
    "        display( change.new )\n",
    "            \n",
    "dropdown_state.observe( dropdown_state_eventhandler, names='value')\n",
    "display( dropdown_state )"
   ]
  },
  {
   "cell_type": "markdown",
   "metadata": {
    "colab_type": "text",
    "id": "w9K8dz0_fhbO"
   },
   "source": [
    "\n",
    "### Run this cell after choosing a state. It will pull the data for that state from ECHO"
   ]
  },
  {
   "cell_type": "code",
   "execution_count": null,
   "metadata": {
    "colab": {
     "base_uri": "https://localhost:8080/",
     "height": 71
    },
    "colab_type": "code",
    "executionInfo": {
     "elapsed": 540,
     "status": "ok",
     "timestamp": 1587587129889,
     "user": {
      "displayName": "Daniel Pascucci",
      "photoUrl": "",
      "userId": "17257141472874634541"
     },
     "user_tz": 240
    },
    "id": "3LVaX-qnjUsQ",
    "outputId": "de0ccd91-a80c-4fa9-fc0e-1058a7e7ba25"
   },
   "outputs": [],
   "source": [
    "my_state = dropdown_state.value\n",
    "\n",
    "sql = \"select FAC_NAME,  FAC_STATE, FAC_LAT, FAC_LONG, NPDES_IDS, CWA_PERMIT_TYPES, FAC_DERIVED_CD113 from ECHO_EXPORTER where NPDES_FLAG = 'Y'  and FAC_STATE = '%s'\" %(my_state)\n",
    "print(sql)\n",
    "url='http://apps.tlt.stonybrook.edu/echoepa/?query='\n",
    "data_location=url+urllib.parse.quote(sql)\n",
    "#print(data_location)"
   ]
  },
  {
   "cell_type": "markdown",
   "metadata": {},
   "source": [
    "\n",
    "### Run this cell to load the CSV of that data.\n",
    "#### How many facilities in the selected state are tracked for water pollution under CWA?"
   ]
  },
  {
   "cell_type": "code",
   "execution_count": null,
   "metadata": {
    "colab": {
     "base_uri": "https://localhost:8080/",
     "height": 34
    },
    "colab_type": "code",
    "executionInfo": {
     "elapsed": 6972,
     "status": "ok",
     "timestamp": 1587587139284,
     "user": {
      "displayName": "Daniel Pascucci",
      "photoUrl": "",
      "userId": "17257141472874634541"
     },
     "user_tz": 240
    },
    "id": "hyrcD-uTjW3y",
    "outputId": "6c792d86-7705-4865-9ad6-53c6755e6211"
   },
   "outputs": [],
   "source": [
    "echo_data = pd.read_csv(data_location,encoding='iso-8859-1',header = 0)\n",
    "num_facilities = echo_data.shape[0]\n",
    "\n",
    "print(\"There are %s NDIS facilities in %s tracked in the ECHO database.\" %(num_facilities, my_state))"
   ]
  },
  {
   "cell_type": "markdown",
   "metadata": {
    "colab_type": "text",
    "id": "8lj7mM_8fhbT"
   },
   "source": [
    "\n",
    "### Run this next cell to generate the Congressional District dropdown list for your state. \n",
    "\n",
    "#### Here is a map of congressional districts: https://www.govtrack.us/congress/members/map"
   ]
  },
  {
   "cell_type": "code",
   "execution_count": null,
   "metadata": {
    "colab": {
     "base_uri": "https://localhost:8080/",
     "height": 49,
     "referenced_widgets": [
      "f82b97025aea466f9c4110fecd6e4d78",
      "36bde256fa5c486aa9ff1153b0b97555",
      "3e6b325f1b8447919b998705da017f9c"
     ]
    },
    "colab_type": "code",
    "executionInfo": {
     "elapsed": 370,
     "status": "ok",
     "timestamp": 1587588448036,
     "user": {
      "displayName": "Daniel Pascucci",
      "photoUrl": "",
      "userId": "17257141472874634541"
     },
     "user_tz": 240
    },
    "id": "eSCz4yUsfaMb",
    "outputId": "a59863d5-99bb-49bb-978e-bf2b31ee7d82"
   },
   "outputs": [],
   "source": [
    "if (( my_state != 'none' ) & (my_state != 'all' )):\n",
    "    cd_array = echo_data[\"FAC_DERIVED_CD113\"].fillna(0).astype(int).unique()\n",
    "    cd_array.sort()\n",
    "    w2=widgets.Dropdown(\n",
    "        options=cd_array,\n",
    "        value=1,\n",
    "        description='Congressional Districts:',\n",
    "        disabled=False,\n",
    "    )\n",
    "    display(w2)"
   ]
  },
  {
   "cell_type": "markdown",
   "metadata": {
    "colab_type": "text",
    "id": "B-5QdW74fhbV"
   },
   "source": [
    "\n",
    "### Select a CD and run the following cell:"
   ]
  },
  {
   "cell_type": "code",
   "execution_count": null,
   "metadata": {
    "colab": {
     "base_uri": "https://localhost:8080/",
     "height": 34
    },
    "colab_type": "code",
    "executionInfo": {
     "elapsed": 368,
     "status": "ok",
     "timestamp": 1587588884007,
     "user": {
      "displayName": "Daniel Pascucci",
      "photoUrl": "",
      "userId": "17257141472874634541"
     },
     "user_tz": 240
    },
    "id": "-STs5eVlfaMe",
    "outputId": "91a28b01-804e-4204-918e-0df7cf321cc8"
   },
   "outputs": [],
   "source": [
    "my_cd = w2.value\n",
    "my_cd_facs = echo_data[echo_data[\"FAC_DERIVED_CD113\"].fillna(0).astype(int) == my_cd]\n",
    "num_facilities = my_cd_facs.shape[0]    \n",
    "print(\"There are %s NDIS facilities in %s district %s tracked in the ECHO database.\" %(num_facilities, my_state, my_cd))"
   ]
  },
  {
   "cell_type": "markdown",
   "metadata": {
    "colab_type": "text",
    "id": "0zSzHrfsfhbZ"
   },
   "source": [
    "\n",
    "### Next look up the inspection history for the facilities in the selected state and congressional district. This step may take a while to run. What we'll get back is a list of facility IDs and their dates of inspections.\n",
    "How many are there? Below the table, the number of rows listed is the total number of CWA inspections that have occurred over the history of the district since they started tracking in this database."
   ]
  },
  {
   "cell_type": "code",
   "execution_count": null,
   "metadata": {
    "colab": {
     "base_uri": "https://localhost:8080/",
     "height": 450
    },
    "colab_type": "code",
    "executionInfo": {
     "elapsed": 3865,
     "status": "ok",
     "timestamp": 1587588889091,
     "user": {
      "displayName": "Daniel Pascucci",
      "photoUrl": "",
      "userId": "17257141472874634541"
     },
     "user_tz": 240
    },
    "id": "H4nVYkoQkq8J",
    "outputId": "78e11575-c8d9-4530-9407-ea14aeddf2f7"
   },
   "outputs": [],
   "source": [
    "sql = \"select NPDES_ID, COMP_MONITOR_TYPE_DESC, STATE_EPA_FLAG, ACTUAL_BEGIN_DATE\" + \\\n",
    "        \" from `NPDES_INSPECTIONS` where NPDES_ID like '\" + my_state + \"%'\"\n",
    "url='http://apps.tlt.stonybrook.edu/echoepa/?query='\n",
    "data_location=url+urllib.parse.quote(sql)\n",
    "# print(data_location)\n",
    "npdes_data = pd.read_csv(data_location,encoding='iso-8859-1',header = 0)\n",
    "npdes_data.set_index( \"NPDES_ID\", inplace=True)\n",
    "npdes_data"
   ]
  },
  {
   "cell_type": "markdown",
   "metadata": {},
   "source": [
    "\n",
    "### This cell gets more information about each facility. Run it to set up for the next part."
   ]
  },
  {
   "cell_type": "code",
   "execution_count": null,
   "metadata": {
    "colab": {
     "base_uri": "https://localhost:8080/",
     "height": 419
    },
    "colab_type": "code",
    "executionInfo": {
     "elapsed": 493,
     "status": "ok",
     "timestamp": 1587588891072,
     "user": {
      "displayName": "Daniel Pascucci",
      "photoUrl": "",
      "userId": "17257141472874634541"
     },
     "user_tz": 240
    },
    "id": "pHz3z2lfl98a",
    "outputId": "4967d5f7-1fc4-49b8-9aa8-0dd374c82aa8"
   },
   "outputs": [],
   "source": [
    "# The NPDES_IDS in ECHO_EXPORTER can contain multiple ids for a facility. \n",
    "# The string must be parsed to get each individual NPDES_ID to look up \n",
    "# in NPDES_INSPECTIONS.\n",
    "\n",
    "my_cd_npdes = pd.DataFrame()\n",
    "no_data_ids = []\n",
    "for fac in my_cd_facs.itertuples():\n",
    "    ids = fac.NPDES_IDS\n",
    "    for npdes_id in ids.split():\n",
    "        try:\n",
    "            npdes_fac = npdes_data.loc[ npdes_id ].copy()\n",
    "            # Add the facility's index number to npdes_data, to refer to it.\n",
    "            n = npdes_fac.shape[0]\n",
    "            fac_list = [fac.Index] * n\n",
    "            npdes_fac['facility'] = fac_list\n",
    "            frames = [my_cd_npdes, npdes_fac]\n",
    "            my_cd_npdes = pd.concat( frames )\n",
    "        except KeyError:\n",
    "            no_data_ids.append( npdes_id )\n",
    "          \n",
    "my_cd_npdes"
   ]
  },
  {
   "cell_type": "markdown",
   "metadata": {
    "colab_type": "text",
    "id": "bJVa6fxwfhbe"
   },
   "source": [
    "\n",
    "### Let's look more closely at the facilities and their inspection histories.\n",
    "Keep in mind CWA Permit Types:\n",
    "<ul>\n",
    "    <li>Major = Publicly Owned Treatment Works (POTW) Handling at least 1 Million gallons per day as well as other major projects.</li>\n",
    "    <li>Minor = Any other project.</li>\n",
    "</ul>"
   ]
  },
  {
   "cell_type": "code",
   "execution_count": null,
   "metadata": {
    "colab": {
     "base_uri": "https://localhost:8080/",
     "height": 419
    },
    "colab_type": "code",
    "executionInfo": {
     "elapsed": 366,
     "status": "ok",
     "timestamp": 1587588894505,
     "user": {
      "displayName": "Daniel Pascucci",
      "photoUrl": "",
      "userId": "17257141472874634541"
     },
     "user_tz": 240
    },
    "id": "l7DgS2bwm606",
    "outputId": "519f2cff-4d56-4f96-a3f5-2136ab4f4f31"
   },
   "outputs": [],
   "source": [
    "fac_idx_list = my_cd_npdes['facility'].dropna()\n",
    "fac_cd_npdes = my_cd_facs.loc[fac_idx_list]\n",
    "fac_cd_npdes"
   ]
  },
  {
   "cell_type": "markdown",
   "metadata": {},
   "source": [
    "\n",
    "### Let's show a quick map of your area and the facilities in it. \n",
    "#### Once you run this cell, a map should appear. You can zoom in and out, or click on facilities to get their names."
   ]
  },
  {
   "cell_type": "code",
   "execution_count": null,
   "metadata": {
    "colab": {
     "base_uri": "https://localhost:8080/",
     "height": 712
    },
    "colab_type": "code",
    "executionInfo": {
     "elapsed": 1670,
     "status": "ok",
     "timestamp": 1587588898943,
     "user": {
      "displayName": "Daniel Pascucci",
      "photoUrl": "",
      "userId": "17257141472874634541"
     },
     "user_tz": 240
    },
    "id": "NKakoWZPnQoq",
    "outputId": "678472b8-da65-47fa-e4bb-f2b3779bc099"
   },
   "outputs": [],
   "source": [
    "# Let's show a quick map of your area and the facilities in it\n",
    "\n",
    "def mapper(df):\n",
    "    # Initialize the map\n",
    "    m = folium.Map(\n",
    "        location = [df.mean()[\"FAC_LAT\"], df.mean()[\"FAC_LONG\"]],\n",
    "        zoom_start = 11\n",
    "    )\n",
    "\n",
    "    # Add a clickable marker for each facility\n",
    "    for index, row in df.iterrows():\n",
    "        folium.Marker(\n",
    "            location = [row[\"FAC_LAT\"], row[\"FAC_LONG\"]],\n",
    "            popup = row[\"FAC_NAME\"] ).add_to(m)\n",
    "\n",
    "    # Show the map\n",
    "    return m\n",
    "\n",
    "map_of_facilities_in_cd = mapper(fac_cd_npdes)\n",
    "map_of_facilities_in_cd"
   ]
  },
  {
   "cell_type": "markdown",
   "metadata": {
    "colab_type": "text",
    "id": "B0lNW3WHfhbj"
   },
   "source": [
    "\n",
    "### What if we wanted to focus on just one facility? \n",
    "#### Running this cell will create a dropdown menu we can use to pick one."
   ]
  },
  {
   "cell_type": "code",
   "execution_count": null,
   "metadata": {
    "colab": {
     "base_uri": "https://localhost:8080/",
     "height": 49,
     "referenced_widgets": [
      "9928f81ee31f46a68a501b587f8a7440",
      "89cd61e3ae164fd5886d96b56fb57957",
      "d217c886fcba4120ab5833b292948106"
     ]
    },
    "colab_type": "code",
    "executionInfo": {
     "elapsed": 332,
     "status": "ok",
     "timestamp": 1587588904069,
     "user": {
      "displayName": "Daniel Pascucci",
      "photoUrl": "",
      "userId": "17257141472874634541"
     },
     "user_tz": 240
    },
    "id": "g-SgTxxKnZCQ",
    "outputId": "205fadb1-7880-4d57-ad49-aeb8656df7bf"
   },
   "outputs": [],
   "source": [
    "cd_array = fac_cd_npdes[\"FAC_NAME\"].unique()\n",
    "cd_array.sort()\n",
    "\n",
    "w3=widgets.Dropdown(\n",
    "    options=cd_array,\n",
    "    description='Facility Name:',\n",
    "    disabled=False,\n",
    ")\n",
    "display(w3)"
   ]
  },
  {
   "cell_type": "markdown",
   "metadata": {
    "colab_type": "text",
    "id": "-sv9rsyLfhbl"
   },
   "source": [
    "#### Run this next cell after choosing a facility to see all the enforcement actions taken against it.\n",
    "\n",
    "Keep in mind CWA Permit Types:\n",
    "<ul>\n",
    "    <li>Major = Publicly Owned Treatment Works (POTW) Handling at least 1 Million gallons per day as well as other major projects.</li>\n",
    "    <li>Minor = Any other project.</li>\n",
    "</ul>"
   ]
  },
  {
   "cell_type": "code",
   "execution_count": null,
   "metadata": {
    "colab": {
     "base_uri": "https://localhost:8080/",
     "height": 402
    },
    "colab_type": "code",
    "executionInfo": {
     "elapsed": 242,
     "status": "ok",
     "timestamp": 1587588909644,
     "user": {
      "displayName": "Daniel Pascucci",
      "photoUrl": "",
      "userId": "17257141472874634541"
     },
     "user_tz": 240
    },
    "id": "WtdhoCy7nc3w",
    "outputId": "205d6d90-8f3a-4653-991b-6593d216fc09"
   },
   "outputs": [],
   "source": [
    "my_fac = fac_cd_npdes[fac_cd_npdes[\"FAC_NAME\"] == w3.value]\n",
    "inspections = my_cd_npdes[my_cd_npdes['facility'] == my_fac.iloc[[0]].index[0]]\n",
    "print( my_fac.iloc[0] )\n",
    "inspections"
   ]
  },
  {
   "cell_type": "markdown",
   "metadata": {},
   "source": [
    "\n",
    "### This section saves some of this data to CSV files in your Google Drive.\n",
    "The first of the next three cells will open our Google Drive to write into.\n",
    "The second cell writes the congressional district file.\n",
    "The third cell writes the file for state data. \n",
    "**Running these cells is optional.**"
   ]
  },
  {
   "cell_type": "code",
   "execution_count": null,
   "metadata": {},
   "outputs": [],
   "source": [
    "from google.colab import drive\n",
    "drive.mount('/content/drive')"
   ]
  },
  {
   "cell_type": "markdown",
   "metadata": {},
   "source": [
    "\n",
    "#### Write the congressional district data to CSV file."
   ]
  },
  {
   "cell_type": "code",
   "execution_count": null,
   "metadata": {},
   "outputs": [],
   "source": [
    "filename = '/content/drive/My Drive/cwa-inspections-' + my_state + '-' + str( my_cd ) + '.csv'\n",
    "my_cd_npdes.to_csv( filename ) \n",
    "print( \"Writing this data to %s\" %(filename))"
   ]
  },
  {
   "cell_type": "markdown",
   "metadata": {},
   "source": [
    "\n",
    "#### Write the state data to CSV file."
   ]
  },
  {
   "cell_type": "code",
   "execution_count": null,
   "metadata": {},
   "outputs": [],
   "source": [
    "filename = '/content/drive/My Drive/cwa-inspections-' + my_state + '.csv'\n",
    "npdes_data.to_csv( filename ) \n",
    "print( \"Writing this data to %s\" %(filename))"
   ]
  },
  {
   "cell_type": "markdown",
    "metadata": {
    "colab_type": "text",
    "id": "6xVRQMavfhbp"
   },
   "source": [
    "\n",
    "### Let's plot our data!\n",
    "#### This cell helps us do just that by summarizing the number of inspection actions by year"
   ]
  },
  {
   "cell_type": "code",
   "execution_count": null,
   "metadata": {
    "colab": {
     "base_uri": "https://localhost:8080/",
     "height": 945
    },
    "colab_type": "code",
    "executionInfo": {
     "elapsed": 630,
     "status": "ok",
     "timestamp": 1587588985381,
     "user": {
      "displayName": "Daniel Pascucci",
      "photoUrl": "",
      "userId": "17257141472874634541"
     },
     "user_tz": 240
    },
    "id": "qMlRfFKxrQNS",
    "outputId": "72caa441-a61e-40d4-e281-35cef32eade1"
   },
   "outputs": [],
   "source": [
    "# This cell creates a function that will be used by both the CD and the state\n",
    "# to plot the number of cases by year.\n",
    "import datetime\n",
    "\n",
    "def show_plot( df, date_field, year_field, place, date_format, chart_title ):\n",
    "    format_str = date_format # The format\n",
    "    nan_count = 0\n",
    "    year_col = []\n",
    "    for day in df[date_field]:\n",
    "        try:\n",
    "            # breakpoint()\n",
    "            viol_year = datetime.datetime.strptime(day, format_str).year\n",
    "            year_col.append( viol_year )\n",
    "        except:\n",
    "            nan_count += 1\n",
    "            year_col.append(  np.NaN )\n",
    "    df[year_field] = year_col\n",
    "    \n",
    "    year_groups = df.groupby( year_field )[[ year_field ]]\n",
    "    counted_years = year_groups.count()\n",
    "\n",
    "    # Print how many values are present \n",
    "    print(counted_years)\n",
    "    chart_title +=  \" in \" + place + \" by year\"\n",
    "\n",
    "    ax = counted_years[[year_field]].plot(kind='bar', title = chart_title, figsize=(15, 10), legend=False, fontsize=12)\n",
    "    ax.set_xlabel(\"Year\", fontsize=12)\n",
    "    ax.set_ylabel(\"Count\", fontsize=12)"
   ]
  },
  {
   "cell_type": "markdown",
   "metadata": {
    "colab_type": "text",
    "id": "6xVRQMavfhbp"
   },
   "source": [
    "### Plot the number of inspections by year for the congressional district."
   ]
  },
  {
   "cell_type": "code",
   "execution_count": null,
   "metadata": {
    "colab": {
     "base_uri": "https://localhost:8080/",
     "height": 945
    },
    "colab_type": "code",
    "executionInfo": {
     "elapsed": 630,
     "status": "ok",
     "timestamp": 1587588985381,
     "user": {
      "displayName": "Daniel Pascucci",
      "photoUrl": "",
      "userId": "17257141472874634541"
     },
     "user_tz": 240
    },
    "id": "qMlRfFKxrQNS",
    "outputId": "72caa441-a61e-40d4-e281-35cef32eade1"
   },
   "outputs": [],
   "source": [
    "chart_title = \"Total CWA inspections\"\n",
    "\n",
    "show_plot(my_cd_npdes, 'ACTUAL_BEGIN_DATE', 'YEAR_EVALUATION', \\\n",
    "          my_state + ' - #' + str( my_cd ), '%m/%d/%Y', chart_title )"
   ]
  },
  {
   "cell_type": "markdown",
   "metadata": {
    "colab_type": "text",
    "id": "mD5ojll0fhbs"
   },
   "source": [
    "### Plot the number of inspections by year, using the entire state.\n",
    "Since the number of evaluations in a single CD may be small, it can be more\n",
    "interesting to look at the entire state."
   ]
  },
  {
   "cell_type": "code",
   "execution_count": null,
   "metadata": {
    "colab": {
     "base_uri": "https://localhost:8080/",
     "height": 945
    },
    "colab_type": "code",
    "executionInfo": {
     "elapsed": 547,
     "status": "ok",
     "timestamp": 1587589059737,
     "user": {
      "displayName": "Daniel Pascucci",
      "photoUrl": "",
      "userId": "17257141472874634541"
     },
     "user_tz": 240
    },
    "id": "KcTGzDeUfhbs",
    "outputId": "c4dfc65f-d10c-4042-f95d-96aa274d08b0"
   },
   "outputs": [],
   "source": [
    "show_plot(npdes_data, 'ACTUAL_BEGIN_DATE', 'YEAR_EVALUATION', \\\n",
    "          my_state, '%m/%d/%Y', chart_title )"
   ]
  }
 ],
 "metadata": {
  "colab": {
   "name": "CWA_Inspections.ipynb",
   "provenance": []
  },
  "kernelspec": {
   "display_name": "Python 3",
   "language": "python",
   "name": "python3"
  },
  "language_info": {
   "codemirror_mode": {
    "name": "ipython",
    "version": 3
   },
   "file_extension": ".py",
   "mimetype": "text/x-python",
   "name": "python",
   "nbconvert_exporter": "python",
   "pygments_lexer": "ipython3",
   "version": "3.7.0"
  },
  "widgets": {
   "application/vnd.jupyter.widget-state+json": {
    "0409358ec94a42a8887903a572b13145": {
     "model_module": "@jupyter-widgets/base",
     "model_name": "LayoutModel",
     "state": {
      "_model_module": "@jupyter-widgets/base",
      "_model_module_version": "1.2.0",
      "_model_name": "LayoutModel",
      "_view_count": null,
      "_view_module": "@jupyter-widgets/base",
      "_view_module_version": "1.2.0",
      "_view_name": "LayoutView",
      "align_content": null,
      "align_items": null,
      "align_self": null,
      "border": null,
      "bottom": null,
      "display": null,
      "flex": null,
      "flex_flow": null,
      "grid_area": null,
      "grid_auto_columns": null,
      "grid_auto_flow": null,
      "grid_auto_rows": null,
      "grid_column": null,
      "grid_gap": null,
      "grid_row": null,
      "grid_template_areas": null,
      "grid_template_columns": null,
      "grid_template_rows": null,
      "height": null,
      "justify_content": null,
      "justify_items": null,
      "left": null,
      "margin": null,
      "max_height": null,
      "max_width": null,
      "min_height": null,
      "min_width": null,
      "object_fit": null,
      "object_position": null,
      "order": null,
      "overflow": null,
      "overflow_x": null,
      "overflow_y": null,
      "padding": null,
      "right": null,
      "top": null,
      "visibility": null,
      "width": null
     }
    },
    "09c150c4fd774b0da69e94bc9d3f0d04": {
     "model_module": "@jupyter-widgets/controls",
     "model_name": "DropdownModel",
     "state": {
      "_dom_classes": [],
      "_model_module": "@jupyter-widgets/controls",
      "_model_module_version": "1.5.0",
      "_model_name": "DropdownModel",
      "_options_labels": [
       "AL",
       "AK",
       "AZ",
       "AR",
       "CA",
       "CO",
       "CT",
       "DC",
       "DE",
       "FL",
       "GA",
       "HI",
       "ID",
       "IL",
       "IN",
       "IA",
       "KS",
       "KY",
       "LA",
       "ME",
       "MD",
       "MA",
       "MI",
       "MN",
       "MS",
       "MO",
       "MT",
       "NE",
       "NV",
       "NH",
       "NJ",
       "NM",
       "NY",
       "NC",
       "ND",
       "OH",
       "OK",
       "OR",
       "PA",
       "RI",
       "SC",
       "SD",
       "TN",
       "TX",
       "UT",
       "VT",
       "VA",
       "WA",
       "WV",
       "WI",
       "WY"
      ],
      "_view_count": null,
      "_view_module": "@jupyter-widgets/controls",
      "_view_module_version": "1.5.0",
      "_view_name": "DropdownView",
      "description": "State:",
      "description_tooltip": null,
      "disabled": false,
      "index": 32,
      "layout": "IPY_MODEL_0409358ec94a42a8887903a572b13145",
      "style": "IPY_MODEL_2dd8a5cf208245b88ef3edda096b440b"
     }
    },
    "2dd8a5cf208245b88ef3edda096b440b": {
     "model_module": "@jupyter-widgets/controls",
     "model_name": "DescriptionStyleModel",
     "state": {
      "_model_module": "@jupyter-widgets/controls",
      "_model_module_version": "1.5.0",
      "_model_name": "DescriptionStyleModel",
      "_view_count": null,
      "_view_module": "@jupyter-widgets/base",
      "_view_module_version": "1.2.0",
      "_view_name": "StyleView",
      "description_width": ""
     }
    },
    "36bde256fa5c486aa9ff1153b0b97555": {
     "model_module": "@jupyter-widgets/controls",
     "model_name": "DescriptionStyleModel",
     "state": {
      "_model_module": "@jupyter-widgets/controls",
      "_model_module_version": "1.5.0",
      "_model_name": "DescriptionStyleModel",
      "_view_count": null,
      "_view_module": "@jupyter-widgets/base",
      "_view_module_version": "1.2.0",
      "_view_name": "StyleView",
      "description_width": ""
     }
    },
    "3e6b325f1b8447919b998705da017f9c": {
     "model_module": "@jupyter-widgets/base",
     "model_name": "LayoutModel",
     "state": {
      "_model_module": "@jupyter-widgets/base",
      "_model_module_version": "1.2.0",
      "_model_name": "LayoutModel",
      "_view_count": null,
      "_view_module": "@jupyter-widgets/base",
      "_view_module_version": "1.2.0",
      "_view_name": "LayoutView",
      "align_content": null,
      "align_items": null,
      "align_self": null,
      "border": null,
      "bottom": null,
      "display": null,
      "flex": null,
      "flex_flow": null,
      "grid_area": null,
      "grid_auto_columns": null,
      "grid_auto_flow": null,
      "grid_auto_rows": null,
      "grid_column": null,
      "grid_gap": null,
      "grid_row": null,
      "grid_template_areas": null,
      "grid_template_columns": null,
      "grid_template_rows": null,
      "height": null,
      "justify_content": null,
      "justify_items": null,
      "left": null,
      "margin": null,
      "max_height": null,
      "max_width": null,
      "min_height": null,
      "min_width": null,
      "object_fit": null,
      "object_position": null,
      "order": null,
      "overflow": null,
      "overflow_x": null,
      "overflow_y": null,
      "padding": null,
      "right": null,
      "top": null,
      "visibility": null,
      "width": null
     }
    },
    "89cd61e3ae164fd5886d96b56fb57957": {
     "model_module": "@jupyter-widgets/controls",
     "model_name": "DescriptionStyleModel",
     "state": {
      "_model_module": "@jupyter-widgets/controls",
      "_model_module_version": "1.5.0",
      "_model_name": "DescriptionStyleModel",
      "_view_count": null,
      "_view_module": "@jupyter-widgets/base",
      "_view_module_version": "1.2.0",
      "_view_name": "StyleView",
      "description_width": ""
     }
    },
    "9928f81ee31f46a68a501b587f8a7440": {
     "model_module": "@jupyter-widgets/controls",
     "model_name": "DropdownModel",
     "state": {
      "_dom_classes": [],
      "_model_module": "@jupyter-widgets/controls",
      "_model_module_version": "1.5.0",
      "_model_name": "DropdownModel",
      "_options_labels": [
       "178-01 LIBERTY AVENUE",
       "AQUEDUCT RACETRACK",
       "ATLANTIC READY MIX",
       "BAY TERMINALS OF ROCKAWAY",
       "BAYSWATER PEAKING FACILITY LL C",
       "BELMONT PARK",
       "CARBO INDUSTRIES INWOOD PROPERTY",
       "CARBO INDUSTRIES PROPERTY",
       "D. DANIELS CONTRACTING CO.",
       "FDA - NORTHEAST LABORATORY",
       "GLOBAL INWOOD TERMINAL",
       "GRANDPA'S BUS COMPANY INC",
       "INWOOD MARKETING DISTRIBUTION",
       "ION GROUP, INC",
       "J F K INTERNATIONAL AIRPORT",
       "JAMAICA WATER POLLUTION CONTROL PLANT",
       "LEFFERTS OIL TERMINAL, INC",
       "METROPLEX ON THE ATLANTIC",
       "NATIONAL GRID  - FAR ROCKAWAY STATION",
       "NEW YORK (C) - ROCKAWAY WPCP",
       "OIL CO, INC-DBA EAGLE OIL",
       "PAN AMERICAN WORLD AIRWAYS",
       "PLANT #1",
       "QUADROZZI CONCRETE CORP.",
       "SHELL LONG ISLAND TERMINAL",
       "TEC CRETE TRANSIT-MIX CORP.",
       "TUSCAN DAIRY GARAGE"
      ],
      "_view_count": null,
      "_view_module": "@jupyter-widgets/controls",
      "_view_module_version": "1.5.0",
      "_view_name": "DropdownView",
      "description": "Facility Name:",
      "description_tooltip": null,
      "disabled": false,
      "index": 5,
      "layout": "IPY_MODEL_d217c886fcba4120ab5833b292948106",
      "style": "IPY_MODEL_89cd61e3ae164fd5886d96b56fb57957"
     }
    },
    "d217c886fcba4120ab5833b292948106": {
     "model_module": "@jupyter-widgets/base",
     "model_name": "LayoutModel",
     "state": {
      "_model_module": "@jupyter-widgets/base",
      "_model_module_version": "1.2.0",
      "_model_name": "LayoutModel",
      "_view_count": null,
      "_view_module": "@jupyter-widgets/base",
      "_view_module_version": "1.2.0",
      "_view_name": "LayoutView",
      "align_content": null,
      "align_items": null,
      "align_self": null,
      "border": null,
      "bottom": null,
      "display": null,
      "flex": null,
      "flex_flow": null,
      "grid_area": null,
      "grid_auto_columns": null,
      "grid_auto_flow": null,
      "grid_auto_rows": null,
      "grid_column": null,
      "grid_gap": null,
      "grid_row": null,
      "grid_template_areas": null,
      "grid_template_columns": null,
      "grid_template_rows": null,
      "height": null,
      "justify_content": null,
      "justify_items": null,
      "left": null,
      "margin": null,
      "max_height": null,
      "max_width": null,
      "min_height": null,
      "min_width": null,
      "object_fit": null,
      "object_position": null,
      "order": null,
      "overflow": null,
      "overflow_x": null,
      "overflow_y": null,
      "padding": null,
      "right": null,
      "top": null,
      "visibility": null,
      "width": null
     }
    },
    "f82b97025aea466f9c4110fecd6e4d78": {
     "model_module": "@jupyter-widgets/controls",
     "model_name": "DropdownModel",
     "state": {
      "_dom_classes": [],
      "_model_module": "@jupyter-widgets/controls",
      "_model_module_version": "1.5.0",
      "_model_name": "DropdownModel",
      "_options_labels": [
       "0",
       "1",
       "2",
       "3",
       "4",
       "5",
       "6",
       "7",
       "8",
       "9",
       "10",
       "11",
       "12",
       "13",
       "14",
       "15",
       "16",
       "17",
       "18",
       "19",
       "20",
       "21",
       "22",
       "23",
       "24",
       "25",
       "26",
       "27"
      ],
      "_view_count": null,
      "_view_module": "@jupyter-widgets/controls",
      "_view_module_version": "1.5.0",
      "_view_name": "DropdownView",
      "description": "Congressional Districts:",
      "description_tooltip": null,
      "disabled": false,
      "index": 5,
      "layout": "IPY_MODEL_3e6b325f1b8447919b998705da017f9c",
      "style": "IPY_MODEL_36bde256fa5c486aa9ff1153b0b97555"
     }
    }
   }
  }
 },
 "nbformat": 4,
 "nbformat_minor": 4
}
