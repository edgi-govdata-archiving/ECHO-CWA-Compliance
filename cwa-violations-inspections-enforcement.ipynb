{
 "cells": [
  {
   "cell_type": "markdown",
   "metadata": {
    "colab_type": "text",
    "id": "RLlwbYCkZz8_"
   },
   "source": [
    "Note:  This notebook has widgets to select the state, congressional district and facility.  Those currently work only when the cells are run one at a time sequentially, not all at once."
   ]
  },
  {
   "cell_type": "markdown",
   "metadata": {
    "colab_type": "text",
    "id": "uyuvNHA8Zz9A"
   },
   "source": [
    "## Clean Water Act Historic Compliance Violations\n",
    "\n",
    "This notebook examines ECHO data using NPDES_QNCR_HISTORY, \n",
    "which reports the number of non-compliance violations in\n",
    "four categories:\n",
    "1) Effluent (E90) violations \n",
    "2) Compliance schedule violations,\n",
    "3) Single event violations\n",
    "4) Permit schedule violations\n",
    "\n",
    "A state and congressional district must be chosen. \n",
    "1. First press the play button on left side of the cell below which will tell the database which data we are going to be analyzing in this notebook."
   ]
  },
  {
   "cell_type": "code",
   "execution_count": 0,
   "metadata": {
    "cellView": "form",
    "colab": {},
    "colab_type": "code",
    "id": "mPWPh4kpZz9B"
   },
   "outputs": [],
   "source": [
    "#@title\n",
    "# Import libraries\n",
    "import urllib.parse\n",
    "import pandas as pd\n",
    "import numpy as np\n",
    "import matplotlib.pyplot as plt\n",
    "%matplotlib inline\n",
    "import folium\n",
    "\n",
    "from ipywidgets import interact, interactive, fixed, interact_manual\n",
    "import ipywidgets as widgets\n",
    "from IPython.display import display\n",
    "\n"
   ]
  },
  {
   "cell_type": "markdown",
   "metadata": {
    "colab_type": "text",
    "id": "lk2eswIAZz9H"
   },
   "source": [
    "2. Run this next cell by pressing play on the left which loads a drop down menu where you can select the state that you are interested in and then run the following cell."
   ]
  },
  {
   "cell_type": "code",
   "execution_count": 2,
   "metadata": {
    "cellView": "form",
    "colab": {
     "base_uri": "https://localhost:8080/",
     "height": 49,
     "referenced_widgets": [
      "d9ca4a4077364bfca1675658be92a8ab",
      "6d1c024ce8db4530ba78cb22b4801ae3",
      "7463779a0e8240cb9799dbb608b233a8"
     ]
    },
    "colab_type": "code",
    "id": "8N8FfsGLZz9I",
    "outputId": "19294082-9df7-4307-d031-2db22226aad3"
   },
   "outputs": [
    {
     "data": {
      "application/vnd.jupyter.widget-view+json": {
       "model_id": "d9ca4a4077364bfca1675658be92a8ab",
       "version_major": 2,
       "version_minor": 0
      },
      "text/plain": [
       "Dropdown(description='State:', index=32, options=('AL', 'AK', 'AZ', 'AR', 'CA', 'CO', 'CT', 'DC', 'DE', 'FL', …"
      ]
     },
     "metadata": {
      "tags": []
     },
     "output_type": "display_data"
    }
   ],
   "source": [
    "#@title\n",
    "states = [\"AL\", \"AK\", \"AZ\", \"AR\", \"CA\", \"CO\", \"CT\", \"DC\", \"DE\", \"FL\", \"GA\", \n",
    "          \"HI\", \"ID\", \"IL\", \"IN\", \"IA\", \"KS\", \"KY\", \"LA\", \"ME\", \"MD\", \n",
    "          \"MA\", \"MI\", \"MN\", \"MS\", \"MO\", \"MT\", \"NE\", \"NV\", \"NH\", \"NJ\", \n",
    "          \"NM\", \"NY\", \"NC\", \"ND\", \"OH\", \"OK\", \"OR\", \"PA\", \"RI\", \"SC\", \n",
    "          \"SD\", \"TN\", \"TX\", \"UT\", \"VT\", \"VA\", \"WA\", \"WV\", \"WI\", \"WY\"]\n",
    "dropdown_state=widgets.Dropdown(\n",
    "    options=states,\n",
    "    value='NY',\n",
    "    description='State:',\n",
    "    disabled=False,\n",
    ")\n",
    "output_state = widgets.Output()\n",
    "my_state = \"\"\n",
    "\n",
    "def dropdown_state_eventhandler( change ):\n",
    "    output_state.clear_output()\n",
    "    value = change.new\n",
    "    with output_state:\n",
    "        display( change.new )\n",
    "            \n",
    "dropdown_state.observe( dropdown_state_eventhandler, names='value')\n",
    "display( dropdown_state )"
   ]
  },
  {
   "cell_type": "markdown",
   "metadata": {
    "colab_type": "text",
    "id": "lTdVPjMDZz9O"
   },
   "source": [
    "3. Run this next cell after choosing a state from the dropdown list above. This cell tells the database what information we want to look at including the facilities in that state (Fac_state), there locations (lat, long), the EPA registry identification number for that facility (Registry_ID) and when they have a permit to emit waste (National Pollution Discharge Elmination System (NPDES))."
   ]
  },
  {
   "cell_type": "code",
   "execution_count": 3,
   "metadata": {
    "cellView": "form",
    "colab": {
     "base_uri": "https://localhost:8080/",
     "height": 54
    },
    "colab_type": "code",
    "id": "r8O-oQz-Zz9O",
    "outputId": "685588e8-9786-481b-f199-d4db8017ad1c"
   },
   "outputs": [
    {
     "name": "stdout",
     "output_type": "stream",
     "text": [
      "select REGISTRY_ID, FAC_NAME, FAC_STATE, NPDES_IDS, FAC_LAT, FAC_LONG, FAC_DERIVED_CD113  from ECHO_EXPORTER  where NPDES_FLAG = 'Y' and FAC_STATE = 'NC'\n"
     ]
    }
   ],
   "source": [
    "#@title\n",
    "my_state = dropdown_state.value\n",
    "\n",
    "sql = \"select REGISTRY_ID, FAC_NAME, FAC_STATE, NPDES_IDS, FAC_LAT, FAC_LONG, FAC_DERIVED_CD113 \" + \\\n",
    "    \" from ECHO_EXPORTER \" + \\\n",
    "    \" where NPDES_FLAG = 'Y' and FAC_STATE = '\" + my_state + \"'\"\n",
    "url='http://apps.tlt.stonybrook.edu/echoepa/?query='\n",
    "data_location=url+urllib.parse.quote(sql)\n",
    "print(sql)\n",
    "# print(data_location)\n"
   ]
  },
  {
   "cell_type": "code",
   "execution_count": 0,
   "metadata": {
    "cellView": "form",
    "colab": {},
    "colab_type": "code",
    "id": "u1ho7nW-Zz9U",
    "scrolled": false
   },
   "outputs": [],
   "source": [
    "#@title\n",
    "\n",
    "echo_data = pd.read_csv(data_location,encoding='iso-8859-1',header = 0)\n",
    "echo_data.set_index( 'REGISTRY_ID', inplace=True )\n"
   ]
  },
  {
   "cell_type": "code",
   "execution_count": 5,
   "metadata": {
    "cellView": "form",
    "colab": {
     "base_uri": "https://localhost:8080/",
     "height": 34
    },
    "colab_type": "code",
    "id": "q1UHXdhSZz9Y",
    "outputId": "8a97fbc3-bfc2-43bc-df3b-3b6a290a90d2"
   },
   "outputs": [
    {
     "name": "stdout",
     "output_type": "stream",
     "text": [
      "There are 7317 NDIS facilities in NC tracked in the ECHO database.\n"
     ]
    }
   ],
   "source": [
    "#@title\n",
    "\n",
    "num_facilities = echo_data.shape[0]\n",
    "print(\"There are %s NDIS facilities in %s tracked in the ECHO database.\" %(num_facilities, my_state))"
   ]
  },
  {
   "cell_type": "markdown",
   "metadata": {
    "colab_type": "text",
    "id": "pE5K6wuoZz9n"
   },
   "source": [
    "Run this next cell to generate the Congressional District dropdown list for your state.  Then select a CD and run the following cell."
   ]
  },
  {
   "cell_type": "code",
   "execution_count": 6,
   "metadata": {
    "cellView": "form",
    "colab": {
     "base_uri": "https://localhost:8080/",
     "height": 49,
     "referenced_widgets": [
      "65e65125b2954a4eb13302f254446e1c",
      "e580b978db444218a246372c62bbb089",
      "7a154052805248eaa3fca4e5ac67ccb9"
     ]
    },
    "colab_type": "code",
    "id": "z9kOov0XZz9n",
    "outputId": "16fa2cd4-61a7-4403-a954-dc11a7f03ace"
   },
   "outputs": [
    {
     "data": {
      "application/vnd.jupyter.widget-view+json": {
       "model_id": "65e65125b2954a4eb13302f254446e1c",
       "version_major": 2,
       "version_minor": 0
      },
      "text/plain": [
       "Dropdown(description='Congressional Districts:', index=1, options=(0, 1, 2, 3, 4, 5, 6, 7, 8, 9, 10, 11, 12, 1…"
      ]
     },
     "metadata": {
      "tags": []
     },
     "output_type": "display_data"
    }
   ],
   "source": [
    "#@title\n",
    "if (( my_state != 'none' ) & (my_state != 'all' )):\n",
    "    cd_array = echo_data[\"FAC_DERIVED_CD113\"].fillna(0).astype(int).unique()\n",
    "    cd_array.sort()\n",
    "    w2=widgets.Dropdown(\n",
    "        options=cd_array,\n",
    "        value=1,\n",
    "        description='Congressional Districts:',\n",
    "        disabled=False,\n",
    "    )\n",
    "    display(w2)"
   ]
  },
  {
   "cell_type": "markdown",
   "metadata": {
    "colab_type": "text",
    "id": "AVuvQm8OZz9r"
   },
   "source": [
    "Here is a map of congressional districts: https://www.govtrack.us/congress/members/map"
   ]
  },
  {
   "cell_type": "code",
   "execution_count": 0,
   "metadata": {
    "colab": {
     "base_uri": "https://localhost:8080/",
     "height": 34
    },
    "colab_type": "code",
    "id": "jjF7lW1rZz9s",
    "outputId": "772d8a8b-3abe-4662-ac57-1a8d1bbf1a65"
   },
   "outputs": [
    {
     "name": "stdout",
     "output_type": "stream",
     "text": [
      "There are 2133 NDIS facilities in LA district 2 tracked in the ECHO database.\n"
     ]
    }
   ],
   "source": [
    "my_cd = w2.value\n",
    "my_cd_facs = echo_data[echo_data[\"FAC_DERIVED_CD113\"].fillna(0).astype(int) == my_cd]\n",
    "num_facilities = my_cd_facs.shape[0]    \n",
    "print(\"There are %s NDIS facilities in %s district %s tracked in the ECHO database.\" %(num_facilities, my_state, my_cd))"
   ]
  },
  {
   "cell_type": "markdown",
   "metadata": {
    "colab_type": "text",
    "id": "Hxy7tSVEZz9v"
   },
   "source": [
    "Next look up the compliance violation history for the facilities in the selected\n",
    "state and congressional district.  This step may take awhile."
   ]
  },
  {
   "cell_type": "code",
   "execution_count": 0,
   "metadata": {
    "cellView": "form",
    "colab": {},
    "colab_type": "code",
    "id": "U_Ok2FzmZz9w"
   },
   "outputs": [],
   "source": [
    "#@title\n",
    "# The NPDES_ID is of the form GAISO1239, with the first two characters being the state abbreviation.\n",
    "# Use that in the query to reduce the number of records and speed up the execution.\n",
    "\n",
    "sql = \"select NPDES_ID, YEARQTR, NUME90Q, NUMCVDT, NUMSVCD, NUMPSCH\" + \\\n",
    "    \" from NPDES_QNCR_HISTORY where YEARQTR > 20050 and YEARQTR < 20200 and \" \\\n",
    "    \" NPDES_ID like '\" + my_state + \"%'\"\n",
    "url='http://apps.tlt.stonybrook.edu/echoepa/?query='\n",
    "data_location=url+urllib.parse.quote(sql)\n",
    "# print(sql)\n",
    "\n",
    "qncr_data = pd.read_csv(data_location,header = 0)\n",
    "qncr_data.set_index( \"NPDES_ID\", inplace=True)\n",
    "qncr_data"
   ]
  },
  {
   "cell_type": "code",
   "execution_count": 0,
   "metadata": {
    "cellView": "form",
    "colab": {},
    "colab_type": "code",
    "id": "TkAvr5fTZz9y"
   },
   "outputs": [],
   "source": [
    "#@title\n",
    "# The NPDIS_IDS in ECHO_EXPORTER can contain multiple ids for a facility. \n",
    "# The string must be parsed to get each individual NPDES_ID to look up \n",
    "# in NPDES_QNCR_HISTORY.\n",
    "\n",
    "my_cd_npdes = pd.DataFrame()\n",
    "no_data_ids = []\n",
    "for fac in my_cd_facs.itertuples():\n",
    "    ids = fac.NPDES_IDS\n",
    "    for npdes_id in ids.split():\n",
    "        try:\n",
    "            npdes_data = qncr_data.loc[ npdes_id ].copy()\n",
    "            # Add the facility's index number to air_data, to refer to it.\n",
    "            n = npdes_data.shape[0]\n",
    "            fac_list = [fac.Index] * n\n",
    "            npdes_data['facility'] = fac_list\n",
    "            frames = [my_cd_npdes, npdes_data]\n",
    "            my_cd_npdes = pd.concat( frames )\n",
    "        except KeyError:\n",
    "            no_data_ids.append( npdes_id )\n"
   ]
  },
  {
   "cell_type": "code",
   "execution_count": 0,
   "metadata": {
    "cellView": "form",
    "colab": {},
    "colab_type": "code",
    "id": "BQI4JWqPZz92"
   },
   "outputs": [],
   "source": [
    "#@title\n",
    "my_cd_groups = my_cd_npdes.groupby( 'YEARQTR' )[['NUMCVDT','NUME90Q','NUMPSCH','NUMSVCD']].sum()"
   ]
  },
  {
   "cell_type": "markdown",
   "metadata": {
    "colab_type": "text",
    "id": "Rn1m-6vJZz95"
   },
   "source": [
    "NUMCVDT - (Number of Compliance Schedule Violations in Quarter) A count of the number of compliance schedule violations reported in the quarter, defined by YEARQTR.\n",
    "\n",
    "NUME90Q - (Number of E90 Violations in Quarter) A count of the number of effluent violations (E90) reported in the quarter, defined by YEARQTR.\n",
    "\n",
    "NUMPSCH - (Number of Permit Schedule Violations in Quarter) A count of the number of permit schedule violations reported in the quarter, defined by YEARQTR.\n",
    "\n",
    "NUMSVCD - (Number of Single Event Violations in Quarter) A count of the number of single event violations reported in the quarter, defined by PRHQRTR."
   ]
  },
  {
   "cell_type": "code",
   "execution_count": 0,
   "metadata": {
    "cellView": "form",
    "colab": {},
    "colab_type": "code",
    "id": "-3Yv15UUZz96",
    "scrolled": true
   },
   "outputs": [],
   "source": [
    "#@title\n",
    "fig, ax = plt.subplots(figsize=(15,15))\n",
    "my_cd_groups.plot(ax=ax)"
   ]
  },
  {
   "cell_type": "markdown",
   "metadata": {
    "colab_type": "text",
    "id": "vlkiuPcjZz98"
   },
   "source": [
    "Q:  How is the number of effluent violations (NUME90Q) related to the number of permit schedule violations (NUMPSCH)?"
   ]
  },
  {
   "cell_type": "markdown",
   "metadata": {
    "colab_type": "text",
    "id": "nKPO1RObZz99"
   },
   "source": [
    "Map the facilities in the Congressional District"
   ]
  },
  {
   "cell_type": "code",
   "execution_count": 0,
   "metadata": {
    "cellView": "form",
    "colab": {},
    "colab_type": "code",
    "id": "gC3i9h9mZz99"
   },
   "outputs": [],
   "source": [
    "#@title\n",
    "# Let's show a quick map of your area and the facilities in it\n",
    "\n",
    "def mapper(df):\n",
    "    # Initialize the map\n",
    "    m = folium.Map(\n",
    "        location = [df.mean()[\"FAC_LAT\"], df.mean()[\"FAC_LONG\"]],\n",
    "        zoom_start = 11\n",
    "    )\n",
    "\n",
    "    # Add a clickable marker for each facility\n",
    "    for index, row in df.iterrows():\n",
    "        folium.Marker(\n",
    "            location = [row[\"FAC_LAT\"], row[\"FAC_LONG\"]],\n",
    "            popup = row[\"FAC_NAME\"] ).add_to(m)\n",
    "\n",
    "    # Show the map\n",
    "    return m\n",
    "\n",
    "map_of_facilities_in_my_area = mapper(my_cd_facs)\n",
    "map_of_facilities_in_my_area"
   ]
  },
  {
   "cell_type": "markdown",
   "metadata": {
    "colab_type": "text",
    "id": "wxNqbM5hZz-A"
   },
   "source": [
    "Add up all the compliance violations for each facility."
   ]
  },
  {
   "cell_type": "code",
   "execution_count": 0,
   "metadata": {
    "colab": {},
    "colab_type": "code",
    "id": "25UguRBQZz-A"
   },
   "outputs": [],
   "source": [
    "cd_npdes_group = my_cd_npdes.groupby( 'facility', as_index=False )[['NUMCVDT','NUME90Q','NUMPSCH','NUMSVCD']].sum()"
   ]
  },
  {
   "cell_type": "markdown",
   "metadata": {
    "colab_type": "text",
    "id": "sawb1kRKZz-D"
   },
   "source": [
    "Which facility has had the largest number of E90 violations, summed over the entire period since 2005?  \n",
    "NUME90Q - (Number of E90 Violations in Quarter) A count of the number of effluent violations (E90) reported in the quarter, defined by YEARQTR."
   ]
  },
  {
   "cell_type": "code",
   "execution_count": 0,
   "metadata": {
    "colab": {},
    "colab_type": "code",
    "id": "1jHo3PqXZz-E"
   },
   "outputs": [],
   "source": [
    "fac_maxE90 = cd_npdes_group.loc[cd_npdes_group['NUME90Q'].idxmax()]\n",
    "print(cd_npdes_group.loc[ cd_npdes_group['facility'] == fac_maxE90['facility']])\n",
    "fac_maxE90_df = my_cd_facs.loc[ my_cd_facs.index == fac_maxE90['facility']]"
   ]
  },
  {
   "cell_type": "markdown",
   "metadata": {},
   "source": [
    "Save the data to a CSV file in your Google Drive.\n",
    "The first of the next three cells will open our Google Drive to write into.\n",
    "The second cell writes the congressional district file.\n",
    "The third cell writes the file for state data.\n",
    "Running these cells is optional."
   ]
  },
  {
   "cell_type": "code",
   "execution_count": null,
   "metadata": {},
   "outputs": [],
   "source": [
    "from google.colab import drive\n",
    "drive.mount('/content/drive')"
   ]
  },
  {
   "cell_type": "markdown",
   "metadata": {},
   "source": [
    "Write the congressional district data to CSV file."
   ]
  },
  {
   "cell_type": "code",
   "execution_count": null,
   "metadata": {},
   "outputs": [],
   "source": [
    "filename = '/content/drive/My Drive/cd-cwa-viol-' + my_state + '-' + str( my_cd ) + '.csv'\n",
    "my_cd_npdes.to_csv( filename ) \n",
    "print( \"Writing this data to %s\" %(filename))"
   ]
  },
  {
   "cell_type": "markdown",
   "metadata": {},
   "source": [
    "Write the state data to CSV file.\n"
   ]
  },
  {
   "cell_type": "code",
   "execution_count": null,
   "metadata": {},
   "outputs": [],
   "source": [
    "filename = '/content/drive/My Drive/state-cwa-viol-' + my_state + '.csv'\n",
    "qncr_data.to_csv( filename ) \n",
    "print( \"Writing this data to %s\" %(filename))"
   ]
  },
  {
   "cell_type": "code",
   "execution_count": 0,
   "metadata": {
    "colab": {
     "base_uri": "https://localhost:8080/",
     "height": 684
    },
    "colab_type": "code",
    "id": "iTUGcPeRZz-I",
    "outputId": "dc34442a-0cc1-4395-dd7b-2719b1393475"
   },
   "outputs": [
    {
     "data": {
      "text/html": [
       "<div style=\"width:100%;\"><div style=\"position:relative;width:100%;height:0;padding-bottom:60%;\"><iframe src=\"about:blank\" style=\"position:absolute;width:100%;height:100%;left:0;top:0;border:none !important;\" data-html=PCFET0NUWVBFIGh0bWw+CjxoZWFkPiAgICAKICAgIDxtZXRhIGh0dHAtZXF1aXY9ImNvbnRlbnQtdHlwZSIgY29udGVudD0idGV4dC9odG1sOyBjaGFyc2V0PVVURi04IiAvPgogICAgPHNjcmlwdD5MX1BSRUZFUl9DQU5WQVM9ZmFsc2U7IExfTk9fVE9VQ0g9ZmFsc2U7IExfRElTQUJMRV8zRD1mYWxzZTs8L3NjcmlwdD4KICAgIDxzY3JpcHQgc3JjPSJodHRwczovL2Nkbi5qc2RlbGl2ci5uZXQvbnBtL2xlYWZsZXRAMS40LjAvZGlzdC9sZWFmbGV0LmpzIj48L3NjcmlwdD4KICAgIDxzY3JpcHQgc3JjPSJodHRwczovL2NvZGUuanF1ZXJ5LmNvbS9qcXVlcnktMS4xMi40Lm1pbi5qcyI+PC9zY3JpcHQ+CiAgICA8c2NyaXB0IHNyYz0iaHR0cHM6Ly9tYXhjZG4uYm9vdHN0cmFwY2RuLmNvbS9ib290c3RyYXAvMy4yLjAvanMvYm9vdHN0cmFwLm1pbi5qcyI+PC9zY3JpcHQ+CiAgICA8c2NyaXB0IHNyYz0iaHR0cHM6Ly9jZG5qcy5jbG91ZGZsYXJlLmNvbS9hamF4L2xpYnMvTGVhZmxldC5hd2Vzb21lLW1hcmtlcnMvMi4wLjIvbGVhZmxldC5hd2Vzb21lLW1hcmtlcnMuanMiPjwvc2NyaXB0PgogICAgPGxpbmsgcmVsPSJzdHlsZXNoZWV0IiBocmVmPSJodHRwczovL2Nkbi5qc2RlbGl2ci5uZXQvbnBtL2xlYWZsZXRAMS40LjAvZGlzdC9sZWFmbGV0LmNzcyIvPgogICAgPGxpbmsgcmVsPSJzdHlsZXNoZWV0IiBocmVmPSJodHRwczovL21heGNkbi5ib290c3RyYXBjZG4uY29tL2Jvb3RzdHJhcC8zLjIuMC9jc3MvYm9vdHN0cmFwLm1pbi5jc3MiLz4KICAgIDxsaW5rIHJlbD0ic3R5bGVzaGVldCIgaHJlZj0iaHR0cHM6Ly9tYXhjZG4uYm9vdHN0cmFwY2RuLmNvbS9ib290c3RyYXAvMy4yLjAvY3NzL2Jvb3RzdHJhcC10aGVtZS5taW4uY3NzIi8+CiAgICA8bGluayByZWw9InN0eWxlc2hlZXQiIGhyZWY9Imh0dHBzOi8vbWF4Y2RuLmJvb3RzdHJhcGNkbi5jb20vZm9udC1hd2Vzb21lLzQuNi4zL2Nzcy9mb250LWF3ZXNvbWUubWluLmNzcyIvPgogICAgPGxpbmsgcmVsPSJzdHlsZXNoZWV0IiBocmVmPSJodHRwczovL2NkbmpzLmNsb3VkZmxhcmUuY29tL2FqYXgvbGlicy9MZWFmbGV0LmF3ZXNvbWUtbWFya2Vycy8yLjAuMi9sZWFmbGV0LmF3ZXNvbWUtbWFya2Vycy5jc3MiLz4KICAgIDxsaW5rIHJlbD0ic3R5bGVzaGVldCIgaHJlZj0iaHR0cHM6Ly9yYXdjZG4uZ2l0aGFjay5jb20vcHl0aG9uLXZpc3VhbGl6YXRpb24vZm9saXVtL21hc3Rlci9mb2xpdW0vdGVtcGxhdGVzL2xlYWZsZXQuYXdlc29tZS5yb3RhdGUuY3NzIi8+CiAgICA8c3R5bGU+aHRtbCwgYm9keSB7d2lkdGg6IDEwMCU7aGVpZ2h0OiAxMDAlO21hcmdpbjogMDtwYWRkaW5nOiAwO308L3N0eWxlPgogICAgPHN0eWxlPiNtYXAge3Bvc2l0aW9uOmFic29sdXRlO3RvcDowO2JvdHRvbTowO3JpZ2h0OjA7bGVmdDowO308L3N0eWxlPgogICAgCiAgICA8bWV0YSBuYW1lPSJ2aWV3cG9ydCIgY29udGVudD0id2lkdGg9ZGV2aWNlLXdpZHRoLAogICAgICAgIGluaXRpYWwtc2NhbGU9MS4wLCBtYXhpbXVtLXNjYWxlPTEuMCwgdXNlci1zY2FsYWJsZT1ubyIgLz4KICAgIDxzdHlsZT4jbWFwXzZiMTk0MGYyNjBjYjRhYTA4YzNlNmJkNDQ3ZDk3ZjViIHsKICAgICAgICBwb3NpdGlvbjogcmVsYXRpdmU7CiAgICAgICAgd2lkdGg6IDEwMC4wJTsKICAgICAgICBoZWlnaHQ6IDEwMC4wJTsKICAgICAgICBsZWZ0OiAwLjAlOwogICAgICAgIHRvcDogMC4wJTsKICAgICAgICB9CiAgICA8L3N0eWxlPgo8L2hlYWQ+Cjxib2R5PiAgICAKICAgIAogICAgPGRpdiBjbGFzcz0iZm9saXVtLW1hcCIgaWQ9Im1hcF82YjE5NDBmMjYwY2I0YWEwOGMzZTZiZDQ0N2Q5N2Y1YiIgPjwvZGl2Pgo8L2JvZHk+CjxzY3JpcHQ+ICAgIAogICAgCiAgICAKICAgICAgICB2YXIgYm91bmRzID0gbnVsbDsKICAgIAoKICAgIHZhciBtYXBfNmIxOTQwZjI2MGNiNGFhMDhjM2U2YmQ0NDdkOTdmNWIgPSBMLm1hcCgKICAgICAgICAnbWFwXzZiMTk0MGYyNjBjYjRhYTA4YzNlNmJkNDQ3ZDk3ZjViJywgewogICAgICAgIGNlbnRlcjogWzI5Ljg3NTQ0LCAtOTAuMTE0NDk1XSwKICAgICAgICB6b29tOiAxMSwKICAgICAgICBtYXhCb3VuZHM6IGJvdW5kcywKICAgICAgICBsYXllcnM6IFtdLAogICAgICAgIHdvcmxkQ29weUp1bXA6IGZhbHNlLAogICAgICAgIGNyczogTC5DUlMuRVBTRzM4NTcsCiAgICAgICAgem9vbUNvbnRyb2w6IHRydWUsCiAgICAgICAgfSk7CgoKICAgIAogICAgdmFyIHRpbGVfbGF5ZXJfMTNhMjI3ODE3ZjlkNDUxODhlMGYyZDhjZGNhOTdhNmMgPSBMLnRpbGVMYXllcigKICAgICAgICAnaHR0cHM6Ly97c30udGlsZS5vcGVuc3RyZWV0bWFwLm9yZy97en0ve3h9L3t5fS5wbmcnLAogICAgICAgIHsKICAgICAgICAiYXR0cmlidXRpb24iOiBudWxsLAogICAgICAgICJkZXRlY3RSZXRpbmEiOiBmYWxzZSwKICAgICAgICAibWF4TmF0aXZlWm9vbSI6IDE4LAogICAgICAgICJtYXhab29tIjogMTgsCiAgICAgICAgIm1pblpvb20iOiAwLAogICAgICAgICJub1dyYXAiOiBmYWxzZSwKICAgICAgICAib3BhY2l0eSI6IDEsCiAgICAgICAgInN1YmRvbWFpbnMiOiAiYWJjIiwKICAgICAgICAidG1zIjogZmFsc2UKfSkuYWRkVG8obWFwXzZiMTk0MGYyNjBjYjRhYTA4YzNlNmJkNDQ3ZDk3ZjViKTsKICAgIAogICAgICAgIHZhciBtYXJrZXJfMmYwZjIzNTAxN2M0NDk5ZGI2ZGE5MjM2OTg3ZTlmMjMgPSBMLm1hcmtlcigKICAgICAgICAgICAgWzI5Ljg3NTQ0LCAtOTAuMTE0NDk1XSwKICAgICAgICAgICAgewogICAgICAgICAgICAgICAgaWNvbjogbmV3IEwuSWNvbi5EZWZhdWx0KCksCiAgICAgICAgICAgICAgICB9CiAgICAgICAgICAgICkuYWRkVG8obWFwXzZiMTk0MGYyNjBjYjRhYTA4YzNlNmJkNDQ3ZDk3ZjViKTsKICAgICAgICAKICAgIAogICAgICAgICAgICB2YXIgcG9wdXBfOWJkMzUzODc2NWU3NGM0MmEwMDM3MDljZTdiMDk2ODggPSBMLnBvcHVwKHttYXhXaWR0aDogJzEwMCUnCiAgICAgICAgICAgIAogICAgICAgICAgICB9KTsKCiAgICAgICAgICAgIAogICAgICAgICAgICAgICAgdmFyIGh0bWxfOTU1YWU2NzFhZGZhNDJlNWI0Njc3Y2E3MTgwM2E2OGQgPSAkKGA8ZGl2IGlkPSJodG1sXzk1NWFlNjcxYWRmYTQyZTViNDY3N2NhNzE4MDNhNjhkIiBzdHlsZT0id2lkdGg6IDEwMC4wJTsgaGVpZ2h0OiAxMDAuMCU7Ij5KRUZGRVJTT04gUEFSSVNIIERFUEFSVE1FTlQgT0YgU0VXRVJBR0UtIE1BUlJFUk8gV1dUUDwvZGl2PmApWzBdOwogICAgICAgICAgICAgICAgcG9wdXBfOWJkMzUzODc2NWU3NGM0MmEwMDM3MDljZTdiMDk2ODguc2V0Q29udGVudChodG1sXzk1NWFlNjcxYWRmYTQyZTViNDY3N2NhNzE4MDNhNjhkKTsKICAgICAgICAgICAgCgogICAgICAgICAgICBtYXJrZXJfMmYwZjIzNTAxN2M0NDk5ZGI2ZGE5MjM2OTg3ZTlmMjMuYmluZFBvcHVwKHBvcHVwXzliZDM1Mzg3NjVlNzRjNDJhMDAzNzA5Y2U3YjA5Njg4KQogICAgICAgICAgICA7CgogICAgICAgICAgICAKICAgICAgICAKPC9zY3JpcHQ+ onload=\"this.contentDocument.open();this.contentDocument.write(atob(this.getAttribute('data-html')));this.contentDocument.close();\" allowfullscreen webkitallowfullscreen mozallowfullscreen></iframe></div></div>"
      ],
      "text/plain": [
       "<folium.folium.Map at 0x7fa726b87208>"
      ]
     },
     "execution_count": 27,
     "metadata": {
      "tags": []
     },
     "output_type": "execute_result"
    }
   ],
   "source": [
    "map_of_maxE90 = mapper(fac_maxE90_df)\n",
    "map_of_maxE90"
   ]
  },
  {
   "cell_type": "markdown",
   "metadata": {
    "colab_type": "text",
    "id": "D3W4TDeZZz-K"
   },
   "source": [
    "What does this facility's history look like?"
   ]
  },
  {
   "cell_type": "code",
   "execution_count": 0,
   "metadata": {
    "colab": {},
    "colab_type": "code",
    "id": "fKDd4KdVZz-L"
   },
   "outputs": [],
   "source": [
    "my_cd_npdes.loc[ my_cd_npdes['facility'] == fac_maxE90['facility']]"
   ]
  },
  {
   "cell_type": "code",
   "execution_count": 0,
   "metadata": {
    "colab": {},
    "colab_type": "code",
    "id": "CiMFEsUKZz-O"
   },
   "outputs": [],
   "source": []
  }
 ],
 "metadata": {
  "colab": {
   "collapsed_sections": [],
   "name": "echo-cwa-compliance-violations.ipynb",
   "provenance": []
  },
  "kernelspec": {
   "display_name": "Python 3.7.5 64-bit ('base': conda)",
   "language": "python",
   "name": "python37564bitbaseconda7071e98414dd4b3880bf69a85f4101b4"
  },
  "language_info": {
   "codemirror_mode": {
    "name": "ipython",
    "version": 3
   },
   "file_extension": ".py",
   "mimetype": "text/x-python",
   "name": "python",
   "nbconvert_exporter": "python",
   "pygments_lexer": "ipython3",
   "version": "3.7.6"
  },
  "widgets": {
   "application/vnd.jupyter.widget-state+json": {
    "65e65125b2954a4eb13302f254446e1c": {
     "model_module": "@jupyter-widgets/controls",
     "model_name": "DropdownModel",
     "state": {
      "_dom_classes": [],
      "_model_module": "@jupyter-widgets/controls",
      "_model_module_version": "1.5.0",
      "_model_name": "DropdownModel",
      "_options_labels": [
       "0",
       "1",
       "2",
       "3",
       "4",
       "5",
       "6",
       "7",
       "8",
       "9",
       "10",
       "11",
       "12",
       "13"
      ],
      "_view_count": null,
      "_view_module": "@jupyter-widgets/controls",
      "_view_module_version": "1.5.0",
      "_view_name": "DropdownView",
      "description": "Congressional Districts:",
      "description_tooltip": null,
      "disabled": false,
      "index": 9,
      "layout": "IPY_MODEL_7a154052805248eaa3fca4e5ac67ccb9",
      "style": "IPY_MODEL_e580b978db444218a246372c62bbb089"
     }
    },
    "6d1c024ce8db4530ba78cb22b4801ae3": {
     "model_module": "@jupyter-widgets/controls",
     "model_name": "DescriptionStyleModel",
     "state": {
      "_model_module": "@jupyter-widgets/controls",
      "_model_module_version": "1.5.0",
      "_model_name": "DescriptionStyleModel",
      "_view_count": null,
      "_view_module": "@jupyter-widgets/base",
      "_view_module_version": "1.2.0",
      "_view_name": "StyleView",
      "description_width": ""
     }
    },
    "7463779a0e8240cb9799dbb608b233a8": {
     "model_module": "@jupyter-widgets/base",
     "model_name": "LayoutModel",
     "state": {
      "_model_module": "@jupyter-widgets/base",
      "_model_module_version": "1.2.0",
      "_model_name": "LayoutModel",
      "_view_count": null,
      "_view_module": "@jupyter-widgets/base",
      "_view_module_version": "1.2.0",
      "_view_name": "LayoutView",
      "align_content": null,
      "align_items": null,
      "align_self": null,
      "border": null,
      "bottom": null,
      "display": null,
      "flex": null,
      "flex_flow": null,
      "grid_area": null,
      "grid_auto_columns": null,
      "grid_auto_flow": null,
      "grid_auto_rows": null,
      "grid_column": null,
      "grid_gap": null,
      "grid_row": null,
      "grid_template_areas": null,
      "grid_template_columns": null,
      "grid_template_rows": null,
      "height": null,
      "justify_content": null,
      "justify_items": null,
      "left": null,
      "margin": null,
      "max_height": null,
      "max_width": null,
      "min_height": null,
      "min_width": null,
      "object_fit": null,
      "object_position": null,
      "order": null,
      "overflow": null,
      "overflow_x": null,
      "overflow_y": null,
      "padding": null,
      "right": null,
      "top": null,
      "visibility": null,
      "width": null
     }
    },
    "7a154052805248eaa3fca4e5ac67ccb9": {
     "model_module": "@jupyter-widgets/base",
     "model_name": "LayoutModel",
     "state": {
      "_model_module": "@jupyter-widgets/base",
      "_model_module_version": "1.2.0",
      "_model_name": "LayoutModel",
      "_view_count": null,
      "_view_module": "@jupyter-widgets/base",
      "_view_module_version": "1.2.0",
      "_view_name": "LayoutView",
      "align_content": null,
      "align_items": null,
      "align_self": null,
      "border": null,
      "bottom": null,
      "display": null,
      "flex": null,
      "flex_flow": null,
      "grid_area": null,
      "grid_auto_columns": null,
      "grid_auto_flow": null,
      "grid_auto_rows": null,
      "grid_column": null,
      "grid_gap": null,
      "grid_row": null,
      "grid_template_areas": null,
      "grid_template_columns": null,
      "grid_template_rows": null,
      "height": null,
      "justify_content": null,
      "justify_items": null,
      "left": null,
      "margin": null,
      "max_height": null,
      "max_width": null,
      "min_height": null,
      "min_width": null,
      "object_fit": null,
      "object_position": null,
      "order": null,
      "overflow": null,
      "overflow_x": null,
      "overflow_y": null,
      "padding": null,
      "right": null,
      "top": null,
      "visibility": null,
      "width": null
     }
    },
    "d9ca4a4077364bfca1675658be92a8ab": {
     "model_module": "@jupyter-widgets/controls",
     "model_name": "DropdownModel",
     "state": {
      "_dom_classes": [],
      "_model_module": "@jupyter-widgets/controls",
      "_model_module_version": "1.5.0",
      "_model_name": "DropdownModel",
      "_options_labels": [
       "AL",
       "AK",
       "AZ",
       "AR",
       "CA",
       "CO",
       "CT",
       "DC",
       "DE",
       "FL",
       "GA",
       "HI",
       "ID",
       "IL",
       "IN",
       "IA",
       "KS",
       "KY",
       "LA",
       "ME",
       "MD",
       "MA",
       "MI",
       "MN",
       "MS",
       "MO",
       "MT",
       "NE",
       "NV",
       "NH",
       "NJ",
       "NM",
       "NY",
       "NC",
       "ND",
       "OH",
       "OK",
       "OR",
       "PA",
       "RI",
       "SC",
       "SD",
       "TN",
       "TX",
       "UT",
       "VT",
       "VA",
       "WA",
       "WV",
       "WI",
       "WY"
      ],
      "_view_count": null,
      "_view_module": "@jupyter-widgets/controls",
      "_view_module_version": "1.5.0",
      "_view_name": "DropdownView",
      "description": "State:",
      "description_tooltip": null,
      "disabled": false,
      "index": 33,
      "layout": "IPY_MODEL_7463779a0e8240cb9799dbb608b233a8",
      "style": "IPY_MODEL_6d1c024ce8db4530ba78cb22b4801ae3"
     }
    },
    "e580b978db444218a246372c62bbb089": {
     "model_module": "@jupyter-widgets/controls",
     "model_name": "DescriptionStyleModel",
     "state": {
      "_model_module": "@jupyter-widgets/controls",
      "_model_module_version": "1.5.0",
      "_model_name": "DescriptionStyleModel",
      "_view_count": null,
      "_view_module": "@jupyter-widgets/base",
      "_view_module_version": "1.2.0",
      "_view_name": "StyleView",
      "description_width": ""
     }
    }
   }
  }
 },
 "nbformat": 4,
 "nbformat_minor": 4
}
