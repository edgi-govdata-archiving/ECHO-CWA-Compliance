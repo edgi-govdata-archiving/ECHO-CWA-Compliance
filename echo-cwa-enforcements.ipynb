{
 "cells": [
  {
   "cell_type": "markdown",
   "metadata": {
    "colab_type": "text",
    "id": "8iHy1AjGsK0w"
   },
   "source": [
    "## Clean Water Act: Enforcement Actions \n",
    "### By Congressional District\n",
    "\n",
    "This notebook examines ECHO data on the National Pollutant Discharge Elimination System, or NPDES, which was established under the Clean Water Act to require monitoring and compliance from wastewater treatment plants, factories, and other point sources of water pollution. This notebook uses ECHO_EXPORTER and NPDES_INSPECTIONS.\n",
    "\n",
    "From ECHO_EXPORTER:\n",
    "<ul>\n",
    "    <li>NPDES_IDS - to match facilities/violations in NPDES_INPSECTIONS</li>\n",
    "    <li>FAC_DERIVED_CD113 - 113th congressional district</li>\n",
    "    <li>FAC_LAT and FAC_LONG - latitude and longitude</li>\n",
    "    <li>CWA_PERMIT_TYPES</li>\n",
    "</ul>\n",
    "\n",
    "CWA Permit Types include:\n",
    "<ul>\n",
    "    <li>Major = Publicly Owned Treatment Works (POTW) Handling at least 1 Million gallons per day as well as other major projects.</li>\n",
    "    <li>Minor = Any other project.</li>\n",
    "</ul>\n",
    "\n",
    "From NPDES_INSPECTIONS we get:\n",
    "<ul>\n",
    "    <li>COMP_MONITORING_TYPE - a description of the evaluation</li>\n",
    "    <li>STATE_EPA_FLAG - the agency that conducted the evaluation</li>\n",
    "    <li>ACTUAL_BEGIN_DATE</li>\n",
    "</ul>\n",
    "\n",
    "A state and congressional district must be chosen using the dropdown\n",
    "widgets that are provided."
   ]
  },
  {
   "cell_type": "markdown",
   "metadata": {},
   "source": [
    "---\n",
    "---"
   ]
  },
  {
   "cell_type": "markdown",
   "metadata": {},
   "source": [
    "## How to Run\n",
    "* If you click on a gray **code** cell, a little “play button” arrow appears on the left. If you click the play button, it will run the code in that cell (“**running** a cell”). The button will animate. When the animation stops, the cell has finished running.\n",
    "![Where to click to run the cell](https://github.com/edgi-govdata-archiving/EEW-Image-Assets/blob/master/Jupyter%20instructions/pressplay.JPG?raw=true)\n",
    "* You may get a warning that the notebook was not authored by Google. We know, we authored them! It’s okay. Click “Run Anyway” to continue. \n",
    "![Error Message](https://github.com/edgi-govdata-archiving/EEW-Image-Assets/blob/master/Jupyter%20instructions/warning-message.JPG?raw=true)\n",
    "* **It is important to run cells in order because they depend on each other.**\n",
    "* Some cells, like the one shown below, will create a dropdown menu after you run them. Be sure to make a selection (for example, click to change NY to LA) before running the next cell.\n",
    "![Dropdown menu](https://github.com/edgi-govdata-archiving/EEW-Image-Assets/blob/master/Jupyter%20instructions/dropdown.JPG?raw=true)\n",
    "* Other cells will simply print information when you run them, like this one:\n",
    "![Simple cell](https://github.com/edgi-govdata-archiving/EEW-Image-Assets/blob/master/Jupyter%20instructions/cell-simple.JPG?raw=true)\n",
    "* Run all of the cells in a Notebook to make a complete report. Please feel free to look at and **learn about each result as you create it**!\n",
    "\n",
    "---\n",
    "---"
   ]
  },
  {
   "cell_type": "markdown",
   "metadata": {},
   "source": [
    "# Let's begin! \n",
    "### Hover over the circle on the top left corner of the cell below and you should see a \"play\" button appear. Click on it to run the cell. \n",
    "Doing so will load in some extra code to help us make sense of our ECHO data and when it finishes, you should see your cell grayed out. You can now move on to the next one."
   ]
  },
  {
   "cell_type": "code",
   "execution_count": null,
   "metadata": {
    "colab": {},
    "colab_type": "code",
    "id": "7ZmBRbb_iSrq"
   },
   "outputs": [],
   "source": [
    "# Import libraries\n",
    "import urllib.parse\n",
    "import pandas as pd\n",
    "import numpy as np\n",
    "import matplotlib.pyplot as plt\n",
    "%matplotlib inline\n",
    "import folium\n",
    "\n",
    "from ipywidgets import interact, interactive, fixed, interact_manual\n",
    "import ipywidgets as widgets\n",
    "from IPython.display import display\n"
   ]
  },
  {
   "cell_type": "markdown",
   "metadata": {
    "colab_type": "text",
    "id": "-usf3ETyfhbK"
   },
   "source": [
    "\n",
    "### Run this next cell to create a widget for selecting states. It will create a dropdown menu at the bottom. Choose your state from the menu then move on to the next cell."
   ]
  },
  {
   "cell_type": "code",
   "execution_count": null,
   "metadata": {
    "colab": {
     "base_uri": "https://localhost:8080/",
     "height": 49,
     "referenced_widgets": [
      "ca97714c7e614177b4c80e276cb771f9",
      "818bb6e740d148a4b5aafe4c147ed5da",
      "37101be367434be4bb18ecb2bee00ea3"
     ]
    },
    "colab_type": "code",
    "executionInfo": {
     "elapsed": 508,
     "status": "ok",
     "timestamp": 1587593968440,
     "user": {
      "displayName": "Sung Gheel Jang",
      "photoUrl": "https://lh3.googleusercontent.com/a-/AOh14GgOz3JFOENCEt4NiwoqlSz9cnPPmjTD4CXe18H4=s64",
      "userId": "08636997590474045847"
     },
     "user_tz": 240
    },
    "id": "2Go-g5y9jRw5",
    "outputId": "b3100978-ea51-446c-a128-5e53d3093a11"
   },
   "outputs": [],
   "source": [
    "states = [\"AL\", \"AK\", \"AZ\", \"AR\", \"CA\", \"CO\", \"CT\", \"DC\", \"DE\", \"FL\", \"GA\", \n",
    "          \"HI\", \"ID\", \"IL\", \"IN\", \"IA\", \"KS\", \"KY\", \"LA\", \"ME\", \"MD\", \n",
    "          \"MA\", \"MI\", \"MN\", \"MS\", \"MO\", \"MT\", \"NE\", \"NV\", \"NH\", \"NJ\", \n",
    "          \"NM\", \"NY\", \"NC\", \"ND\", \"OH\", \"OK\", \"OR\", \"PA\", \"RI\", \"SC\", \n",
    "          \"SD\", \"TN\", \"TX\", \"UT\", \"VT\", \"VA\", \"WA\", \"WV\", \"WI\", \"WY\"]\n",
    "dropdown_state=widgets.Dropdown(\n",
    "    options=states,\n",
    "    value='NY',\n",
    "    description='State:',\n",
    "    disabled=False,\n",
    ")\n",
    "output_state = widgets.Output()\n",
    "my_state = \"\"\n",
    "\n",
    "def dropdown_state_eventhandler( change ):\n",
    "    output_state.clear_output()\n",
    "    value = change.new\n",
    "    with output_state:\n",
    "        display( change.new )\n",
    "            \n",
    "dropdown_state.observe( dropdown_state_eventhandler, names='value')\n",
    "display( dropdown_state )"
   ]
  },
  {
   "cell_type": "markdown",
   "metadata": {
    "colab_type": "text",
    "id": "w9K8dz0_fhbO"
   },
   "source": [
    "\n",
    "### Run this cell after choosing a state. It will pull the data for that state from ECHO"
   ]
  },
  {
   "cell_type": "code",
   "execution_count": null,
   "metadata": {
    "colab": {
     "base_uri": "https://localhost:8080/",
     "height": 71
    },
    "colab_type": "code",
    "executionInfo": {
     "elapsed": 569,
     "status": "ok",
     "timestamp": 1587593976227,
     "user": {
      "displayName": "Sung Gheel Jang",
      "photoUrl": "https://lh3.googleusercontent.com/a-/AOh14GgOz3JFOENCEt4NiwoqlSz9cnPPmjTD4CXe18H4=s64",
      "userId": "08636997590474045847"
     },
     "user_tz": 240
    },
    "id": "3LVaX-qnjUsQ",
    "outputId": "0a06b95d-27aa-4e1a-9e5b-fea2f71c760c"
   },
   "outputs": [],
   "source": [
    "my_state = dropdown_state.value\n",
    "\n",
    "sql = \"select FAC_NAME,  FAC_STATE, FAC_LAT, FAC_LONG, NPDES_IDS, CWA_PERMIT_TYPES, FAC_DERIVED_CD113 from ECHO_EXPORTER where NPDES_FLAG = 'Y'  and FAC_STATE = '%s'\" %(my_state)\n",
    "print(sql)\n",
    "url='http://apps.tlt.stonybrook.edu/echoepa/?query='\n",
    "data_location=url+urllib.parse.quote(sql)\n",
    "#print(data_location)"
   ]
  },
  {
   "cell_type": "markdown",
   "metadata": {},
   "source": [
    "\n",
    "### Run this cell to load the CSV of that data.\n",
    "#### How many facilities in the selected state are tracked for water pollution under CWA?"
   ]
  },
  {
   "cell_type": "code",
   "execution_count": null,
   "metadata": {
    "colab": {
     "base_uri": "https://localhost:8080/",
     "height": 34
    },
    "colab_type": "code",
    "executionInfo": {
     "elapsed": 6816,
     "status": "ok",
     "timestamp": 1587593986604,
     "user": {
      "displayName": "Sung Gheel Jang",
      "photoUrl": "https://lh3.googleusercontent.com/a-/AOh14GgOz3JFOENCEt4NiwoqlSz9cnPPmjTD4CXe18H4=s64",
      "userId": "08636997590474045847"
     },
     "user_tz": 240
    },
    "id": "hyrcD-uTjW3y",
    "outputId": "dbbc4e17-a121-4fa4-f118-a4f96d93cf1d"
   },
   "outputs": [],
   "source": [
    "echo_data = pd.read_csv(data_location,encoding='iso-8859-1',header = 0)\n",
    "num_facilities = echo_data.shape[0]\n",
    "\n",
    "print(\"There are %s NDIS facilities in %s tracked in the ECHO database.\" %(num_facilities, my_state))"
   ]
  },
  {
   "cell_type": "markdown",
   "metadata": {
    "colab_type": "text",
    "id": "8lj7mM_8fhbT"
   },
   "source": [
    "\n",
    "### Run this next cell to generate the Congressional District dropdown list for your state. \n",
    "\n",
    "#### Here is a map of congressional districts: https://www.govtrack.us/congress/members/map"
   ]
  },
  {
   "cell_type": "code",
   "execution_count": null,
   "metadata": {
    "colab": {
     "base_uri": "https://localhost:8080/",
     "height": 49,
     "referenced_widgets": [
      "bae4ac13de5d495e9df1bc11d87e3471",
      "338f0e2a210c46d2ac3760164769b2b3",
      "f9204df5df1d4adb84c391366be22bd7"
     ]
    },
    "colab_type": "code",
    "executionInfo": {
     "elapsed": 476,
     "status": "ok",
     "timestamp": 1587593991717,
     "user": {
      "displayName": "Sung Gheel Jang",
      "photoUrl": "https://lh3.googleusercontent.com/a-/AOh14GgOz3JFOENCEt4NiwoqlSz9cnPPmjTD4CXe18H4=s64",
      "userId": "08636997590474045847"
     },
     "user_tz": 240
    },
    "id": "eSCz4yUsfaMb",
    "outputId": "1c7b5da5-15ca-4641-efa9-95957d94060f"
   },
   "outputs": [],
   "source": [
    "if (( my_state != 'none' ) & (my_state != 'all' )):\n",
    "    cd_array = echo_data[\"FAC_DERIVED_CD113\"].fillna(0).astype(int).unique()\n",
    "    cd_array.sort()\n",
    "    w2=widgets.Dropdown(\n",
    "        options=cd_array,\n",
    "        value=1,\n",
    "        description='Congressional Districts:',\n",
    "        disabled=False,\n",
    "    )\n",
    "    display(w2)"
   ]
  },
  {
   "cell_type": "markdown",
   "metadata": {
    "colab_type": "text",
    "id": "B-5QdW74fhbV"
   },
   "source": [
    "\n",
    "### Select a CD and run the following cell:"
   ]
  },
  {
   "cell_type": "code",
   "execution_count": null,
   "metadata": {
    "colab": {
     "base_uri": "https://localhost:8080/",
     "height": 34
    },
    "colab_type": "code",
    "executionInfo": {
     "elapsed": 506,
     "status": "ok",
     "timestamp": 1587593998023,
     "user": {
      "displayName": "Sung Gheel Jang",
      "photoUrl": "https://lh3.googleusercontent.com/a-/AOh14GgOz3JFOENCEt4NiwoqlSz9cnPPmjTD4CXe18H4=s64",
      "userId": "08636997590474045847"
     },
     "user_tz": 240
    },
    "id": "-STs5eVlfaMe",
    "outputId": "9285b70f-a4df-4e8d-e750-474ee9a36980"
   },
   "outputs": [],
   "source": [
    "my_cd = w2.value\n",
    "my_cd_facs = echo_data[echo_data[\"FAC_DERIVED_CD113\"].fillna(0).astype(int) == my_cd]\n",
    "num_facilities = my_cd_facs.shape[0]    \n",
    "print(\"There are %s NDIS facilities in %s district %s tracked in the ECHO database.\" %(num_facilities, my_state, my_cd))"
   ]
  },
  {
   "cell_type": "markdown",
   "metadata": {
    "colab_type": "text",
    "id": "0zSzHrfsfhbZ"
   },
   "source": [
    "\n",
    "### Next look up the enforcement history for the facilities in the selected state and congressional district. This step may take a while to run. What we'll get back is a list of facility IDs and the dates of enforcement actions taken against them.\n",
    "How many are there? Below the table, the number of rows listed is the total number of CWA enforcement actions that have occurred over the history of the district since they started tracking in this database."
   ]
  },
  {
   "cell_type": "code",
   "execution_count": null,
   "metadata": {
    "colab": {
     "base_uri": "https://localhost:8080/",
     "height": 450
    },
    "colab_type": "code",
    "executionInfo": {
     "elapsed": 1013,
     "status": "ok",
     "timestamp": 1587594003559,
     "user": {
      "displayName": "Sung Gheel Jang",
      "photoUrl": "https://lh3.googleusercontent.com/a-/AOh14GgOz3JFOENCEt4NiwoqlSz9cnPPmjTD4CXe18H4=s64",
      "userId": "08636997590474045847"
     },
     "user_tz": 240
    },
    "id": "H4nVYkoQkq8J",
    "outputId": "252b6077-7384-45a5-b2e5-1b88eb79201e"
   },
   "outputs": [],
   "source": [
    "sql = \"select NPDES_ID, AGENCY, ENF_TYPE_DESC, SETTLEMENT_ENTERED_DATE\" + \\\n",
    "        \" from NPDES_FORMAL_ENFORCEMENT_ACTIONS  where NPDES_ID like '\" + my_state + \"%'\"\n",
    "url='http://apps.tlt.stonybrook.edu/echoepa/?query='\n",
    "data_location=url+urllib.parse.quote(sql)\n",
    "#print(data_location)\n",
    "npdes_data = pd.read_csv(data_location,encoding='iso-8859-1',header = 0)\n",
    "npdes_data.set_index( \"NPDES_ID\", inplace=True)\n",
    "npdes_data"
   ]
  },
  {
   "cell_type": "markdown",
   "metadata": {},
   "source": [
    "\n",
    "### This cell gets more information about each facility. Run it to set up for the next part."
   ]
  },
  {
   "cell_type": "code",
   "execution_count": null,
   "metadata": {
    "colab": {
     "base_uri": "https://localhost:8080/",
     "height": 419
    },
    "colab_type": "code",
    "executionInfo": {
     "elapsed": 505,
     "status": "ok",
     "timestamp": 1587594016023,
     "user": {
      "displayName": "Sung Gheel Jang",
      "photoUrl": "https://lh3.googleusercontent.com/a-/AOh14GgOz3JFOENCEt4NiwoqlSz9cnPPmjTD4CXe18H4=s64",
      "userId": "08636997590474045847"
     },
     "user_tz": 240
    },
    "id": "pHz3z2lfl98a",
    "outputId": "2c93b5f9-caa1-4bd9-b228-4631cd2acd3f"
   },
   "outputs": [],
   "source": [
    "# The NPDES_IDS in ECHO_EXPORTER can contain multiple ids for a facility. \n",
    "# The string must be parsed to get each individual NPDES_ID to look up \n",
    "# in NPDES_INSPECTIONS.\n",
    "\n",
    "my_cd_npdes = pd.DataFrame()\n",
    "no_data_ids = []\n",
    "for fac in my_cd_facs.itertuples():\n",
    "    ids = fac.NPDES_IDS\n",
    "    for npdes_id in ids.split():\n",
    "        try:\n",
    "            npdes_fac = npdes_data.loc[ npdes_id ].copy()\n",
    "            # Add the facility's index number to npdes_data, to refer to it.\n",
    "            n = npdes_fac.shape[0]\n",
    "            fac_list = [fac.Index] * n\n",
    "            npdes_fac['facility'] = fac_list\n",
    "            frames = [my_cd_npdes, npdes_fac]\n",
    "            my_cd_npdes = pd.concat( frames )\n",
    "        except KeyError:\n",
    "            no_data_ids.append( npdes_id )\n",
    "          \n",
    "my_cd_npdes"
   ]
  },
  {
   "cell_type": "markdown",
   "metadata": {
    "colab_type": "text",
    "id": "bJVa6fxwfhbe"
   },
   "source": [
    "\n",
    "### Let's look more closely at the facilities that have had these enforcement actions taken against them.\n",
    "Keep in mind CWA Permit Types:\n",
    "<ul>\n",
    "    <li>Major = Publicly Owned Treatment Works (POTW) Handling at least 1 Million gallons per day as well as other major projects.</li>\n",
    "    <li>Minor = Any other project.</li>\n",
    "</ul>"
   ]
  },
  {
   "cell_type": "code",
   "execution_count": null,
   "metadata": {
    "colab": {
     "base_uri": "https://localhost:8080/",
     "height": 419
    },
    "colab_type": "code",
    "executionInfo": {
     "elapsed": 431,
     "status": "ok",
     "timestamp": 1587594023689,
     "user": {
      "displayName": "Sung Gheel Jang",
      "photoUrl": "https://lh3.googleusercontent.com/a-/AOh14GgOz3JFOENCEt4NiwoqlSz9cnPPmjTD4CXe18H4=s64",
      "userId": "08636997590474045847"
     },
     "user_tz": 240
    },
    "id": "l7DgS2bwm606",
    "outputId": "c311a6b7-d6e0-4b31-ca50-db0cc21d8b97"
   },
   "outputs": [],
   "source": [
    "fac_idx_list = my_cd_npdes['facility'].dropna()\n",
    "fac_cd_npdes = my_cd_facs.loc[fac_idx_list]\n",
    "fac_cd_npdes"
   ]
  },
  {
   "cell_type": "markdown",
   "metadata": {},
   "source": [
    "\n",
    "### This section saves some of this data to CSV files in your Google Drive.\n",
    "The first of the next three cells will open our Google Drive to write into.\n",
    "The second cell writes the congressional district file.\n",
    "The third cell writes the file for state data. \n",
    "**Running these cells is optional.**"
   ]
  },
  {
   "cell_type": "code",
   "execution_count": null,
   "metadata": {},
   "outputs": [],
   "source": [
    "from google.colab import drive\n",
    "drive.mount('/content/drive')"
   ]
  },
  {
   "cell_type": "markdown",
   "metadata": {},
   "source": [
    "\n",
    "#### Write the congressional district data to CSV file."
   ]
  },
  {
   "cell_type": "code",
   "execution_count": null,
   "metadata": {},
   "outputs": [],
   "source": [
    "filename = '/content/drive/My Drive/cwa-enforcements-' + my_state + '-' + str( my_cd ) + '.csv'\n",
    "my_cd_npdes.to_csv( filename ) \n",
    "print( \"Writing this data to %s\" %(filename))"
   ]
  },
  {
   "cell_type": "markdown",
   "metadata": {},
   "source": [
    "#### Write the state data to CSV file."
   ]
  },
  {
   "cell_type": "code",
   "execution_count": null,
   "metadata": {},
   "outputs": [],
   "source": [
    "filename = '/content/drive/My Drive/cwa-enforcements-' + my_state + '.csv'\n",
    "npdes_data.to_csv( filename ) \n",
    "print( \"Writing this data to %s\" %(filename))"
   ]
  },
  {
   "cell_type": "markdown",
   "metadata": {},
   "source": [
    "\n",
    "### Let's show a quick map of your area and the facilities in it. \n",
    "#### Once you run this cell, a map should appear. You can zoom in and out, or click on facilities to get their names."
   ]
  },
  {
   "cell_type": "code",
   "execution_count": null,
   "metadata": {
    "colab": {
     "base_uri": "https://localhost:8080/",
     "height": 702
    },
    "colab_type": "code",
    "executionInfo": {
     "elapsed": 506,
     "status": "ok",
     "timestamp": 1587594029262,
     "user": {
      "displayName": "Sung Gheel Jang",
      "photoUrl": "https://lh3.googleusercontent.com/a-/AOh14GgOz3JFOENCEt4NiwoqlSz9cnPPmjTD4CXe18H4=s64",
      "userId": "08636997590474045847"
     },
     "user_tz": 240
    },
    "id": "NKakoWZPnQoq",
    "outputId": "5faeb851-eba6-447f-f913-3ca09deba9f4"
   },
   "outputs": [],
   "source": [
    "def mapper(df):\n",
    "    # Initialize the map\n",
    "    m = folium.Map(\n",
    "        location = [df.mean()[\"FAC_LAT\"], df.mean()[\"FAC_LONG\"]],\n",
    "        zoom_start = 11\n",
    "    )\n",
    "\n",
    "    # Add a clickable marker for each facility\n",
    "    for index, row in df.iterrows():\n",
    "        folium.Marker(\n",
    "            location = [row[\"FAC_LAT\"], row[\"FAC_LONG\"]],\n",
    "            popup = row[\"FAC_NAME\"] ).add_to(m)\n",
    "\n",
    "    # Show the map\n",
    "    return m\n",
    "\n",
    "map_of_facilities_in_cd = mapper(fac_cd_npdes)\n",
    "map_of_facilities_in_cd"
   ]
  },
  {
   "cell_type": "markdown",
   "metadata": {
    "colab_type": "text",
    "id": "B0lNW3WHfhbj"
   },
   "source": [
    "\n",
    "### What if we wanted to focus on just one facility? \n",
    "#### Run this cell to create a dropdown menu where we can pick one facility to learn more about."
   ]
  },
  {
   "cell_type": "code",
   "execution_count": null,
   "metadata": {
    "colab": {
     "base_uri": "https://localhost:8080/",
     "height": 49,
     "referenced_widgets": [
      "ce5934aca6924b3fbfcd5cf94dbbcde7",
      "c304022d16a54074a9084c1d5f8dddf0",
      "2697826eda1a4f389f320bfa83cf60a7"
     ]
    },
    "colab_type": "code",
    "executionInfo": {
     "elapsed": 335,
     "status": "ok",
     "timestamp": 1587594043214,
     "user": {
      "displayName": "Sung Gheel Jang",
      "photoUrl": "https://lh3.googleusercontent.com/a-/AOh14GgOz3JFOENCEt4NiwoqlSz9cnPPmjTD4CXe18H4=s64",
      "userId": "08636997590474045847"
     },
     "user_tz": 240
    },
    "id": "g-SgTxxKnZCQ",
    "outputId": "52cbb682-591f-4e10-aee1-cc0c8cfe97b6"
   },
   "outputs": [],
   "source": [
    "cd_array = fac_cd_npdes[\"FAC_NAME\"].unique()\n",
    "cd_array.sort()\n",
    "\n",
    "w3=widgets.Dropdown(\n",
    "    options=cd_array,\n",
    "    description='Facility Name:',\n",
    "    disabled=False,\n",
    ")\n",
    "display(w3)"
   ]
  },
  {
   "cell_type": "markdown",
   "metadata": {
    "colab_type": "text",
    "id": "-sv9rsyLfhbl"
   },
   "source": [
    "\n",
    "#### Run this next cell after choosing a facility to see all the enforcement actions taken against it."
   ]
  },
  {
   "cell_type": "code",
   "execution_count": null,
   "metadata": {
    "colab": {
     "base_uri": "https://localhost:8080/",
     "height": 278
    },
    "colab_type": "code",
    "executionInfo": {
     "elapsed": 318,
     "status": "ok",
     "timestamp": 1587594067822,
     "user": {
      "displayName": "Sung Gheel Jang",
      "photoUrl": "https://lh3.googleusercontent.com/a-/AOh14GgOz3JFOENCEt4NiwoqlSz9cnPPmjTD4CXe18H4=s64",
      "userId": "08636997590474045847"
     },
     "user_tz": 240
    },
    "id": "WtdhoCy7nc3w",
    "outputId": "4deb004d-3f32-41f4-e955-5ffa80c387f2"
   },
   "outputs": [],
   "source": [
    "my_fac = fac_cd_npdes[fac_cd_npdes[\"FAC_NAME\"] == w3.value]\n",
    "evaluations = my_cd_npdes[my_cd_npdes['facility'] == my_fac.iloc[[0]].index[0]]\n",
    "print( my_fac.iloc[0] )\n",
    "evaluations"
   ]
  },
  {
   "cell_type": "markdown",
   "metadata": {
    "colab_type": "text",
    "id": "6xVRQMavfhbp"
   },
   "source": [
    "\n",
    "### Let's plot our data!\n",
    "#### This cell helps us do just that by summarizing the number of enforcement actions by year"
   ]
  },
  {
   "cell_type": "code",
   "execution_count": null,
   "metadata": {
    "colab": {
     "base_uri": "https://localhost:8080/",
     "height": 1000
    },
    "colab_type": "code",
    "executionInfo": {
     "elapsed": 683,
     "status": "ok",
     "timestamp": 1587594096246,
     "user": {
      "displayName": "Sung Gheel Jang",
      "photoUrl": "https://lh3.googleusercontent.com/a-/AOh14GgOz3JFOENCEt4NiwoqlSz9cnPPmjTD4CXe18H4=s64",
      "userId": "08636997590474045847"
     },
     "user_tz": 240
    },
    "id": "qMlRfFKxrQNS",
    "outputId": "e5cac1b8-4880-4fc1-f9af-c47d4f34e736"
   },
   "outputs": [],
   "source": [
    "# This cell creates a function that will be used by both the CD and the state\n",
    "# to plot the number of cases by year.\n",
    "import datetime\n",
    "\n",
    "def show_plot( df, date_field, year_field, place, date_format, chart_title ):\n",
    "    format_str = date_format # The format\n",
    "    nan_count = 0\n",
    "    year_col = []\n",
    "    for day in df[date_field]:\n",
    "        try:\n",
    "            # breakpoint()\n",
    "            viol_year = datetime.datetime.strptime(day, format_str).year\n",
    "            year_col.append( viol_year )\n",
    "        except:\n",
    "            nan_count += 1\n",
    "            year_col.append(  np.NaN )\n",
    "    df[year_field] = year_col\n",
    "    \n",
    "    year_groups = df.groupby( year_field )[[ year_field ]]\n",
    "    counted_years = year_groups.count()\n",
    "\n",
    "    # Print how many values are present \n",
    "    print(counted_years)\n",
    "    chart_title +=  \" in \" + place + \" by year\"\n",
    "\n",
    "    ax = counted_years[[year_field]].plot(kind='bar', title = chart_title, figsize=(15, 10), legend=False, fontsize=12)\n",
    "    ax.set_xlabel(\"Year\", fontsize=12)\n",
    "    ax.set_ylabel(\"Count\", fontsize=12)"
   ]
  },
  {
   "cell_type": "markdown",
   "metadata": {
    "colab_type": "text",
    "id": "6xVRQMavfhbp"
   },
   "source": [
    "\n",
    "### Plot the number of enforcements by year for the congressional district."
   ]
  },
  {
   "cell_type": "code",
   "execution_count": null,
   "metadata": {
    "colab": {
     "base_uri": "https://localhost:8080/",
     "height": 1000
    },
    "colab_type": "code",
    "executionInfo": {
     "elapsed": 683,
     "status": "ok",
     "timestamp": 1587594096246,
     "user": {
      "displayName": "Sung Gheel Jang",
      "photoUrl": "https://lh3.googleusercontent.com/a-/AOh14GgOz3JFOENCEt4NiwoqlSz9cnPPmjTD4CXe18H4=s64",
      "userId": "08636997590474045847"
     },
     "user_tz": 240
    },
    "id": "qMlRfFKxrQNS",
    "outputId": "e5cac1b8-4880-4fc1-f9af-c47d4f34e736"
   },
   "outputs": [],
   "source": [
    "chart_title = \"Total CWA enforcements\"\n",
    "\n",
    "show_plot(my_cd_npdes, 'SETTLEMENT_ENTERED_DATE', 'YEAR_ENFORCEMENT', \\\n",
    "          my_state + ' - #' + str( my_cd ), '%m/%d/%Y', chart_title )"
   ]
  },
  {
   "cell_type": "markdown",
   "metadata": {
    "colab_type": "text",
    "id": "mD5ojll0fhbs"
   },
   "source": [
    "\n",
    "### Plot the number of enforcement actions by year, using the entire state.\n",
    "Since the number of enforcements in a single CD may be small, it can be more\n",
    "interesting to look at the entire state."
   ]
  },
  {
   "cell_type": "code",
   "execution_count": null,
   "metadata": {
    "colab": {
     "base_uri": "https://localhost:8080/",
     "height": 1000
    },
    "colab_type": "code",
    "executionInfo": {
     "elapsed": 638,
     "status": "ok",
     "timestamp": 1587594106856,
     "user": {
      "displayName": "Sung Gheel Jang",
      "photoUrl": "https://lh3.googleusercontent.com/a-/AOh14GgOz3JFOENCEt4NiwoqlSz9cnPPmjTD4CXe18H4=s64",
      "userId": "08636997590474045847"
     },
     "user_tz": 240
    },
    "id": "KcTGzDeUfhbs",
    "outputId": "fdd174c2-d1d5-44a6-e619-8b2630fdfafc"
   },
   "outputs": [],
   "source": [
    "show_plot(npdes_data, 'SETTLEMENT_ENTERED_DATE', 'YEAR_ENFORCEMENT', \\\n",
    "          my_state, '%m/%d/%Y', chart_title )"
   ]
  }
 ],
 "metadata": {
  "colab": {
   "name": "CWA_Enforcements.ipynb",
   "provenance": []
  },
  "kernelspec": {
   "display_name": "Python 3",
   "language": "python",
   "name": "python3"
  },
  "language_info": {
   "codemirror_mode": {
    "name": "ipython",
    "version": 3
   },
   "file_extension": ".py",
   "mimetype": "text/x-python",
   "name": "python",
   "nbconvert_exporter": "python",
   "pygments_lexer": "ipython3",
   "version": "3.7.0"
  },
  "widgets": {
   "application/vnd.jupyter.widget-state+json": {
    "2697826eda1a4f389f320bfa83cf60a7": {
     "model_module": "@jupyter-widgets/base",
     "model_name": "LayoutModel",
     "state": {
      "_model_module": "@jupyter-widgets/base",
      "_model_module_version": "1.2.0",
      "_model_name": "LayoutModel",
      "_view_count": null,
      "_view_module": "@jupyter-widgets/base",
      "_view_module_version": "1.2.0",
      "_view_name": "LayoutView",
      "align_content": null,
      "align_items": null,
      "align_self": null,
      "border": null,
      "bottom": null,
      "display": null,
      "flex": null,
      "flex_flow": null,
      "grid_area": null,
      "grid_auto_columns": null,
      "grid_auto_flow": null,
      "grid_auto_rows": null,
      "grid_column": null,
      "grid_gap": null,
      "grid_row": null,
      "grid_template_areas": null,
      "grid_template_columns": null,
      "grid_template_rows": null,
      "height": null,
      "justify_content": null,
      "justify_items": null,
      "left": null,
      "margin": null,
      "max_height": null,
      "max_width": null,
      "min_height": null,
      "min_width": null,
      "object_fit": null,
      "object_position": null,
      "order": null,
      "overflow": null,
      "overflow_x": null,
      "overflow_y": null,
      "padding": null,
      "right": null,
      "top": null,
      "visibility": null,
      "width": null
     }
    },
    "338f0e2a210c46d2ac3760164769b2b3": {
     "model_module": "@jupyter-widgets/controls",
     "model_name": "DescriptionStyleModel",
     "state": {
      "_model_module": "@jupyter-widgets/controls",
      "_model_module_version": "1.5.0",
      "_model_name": "DescriptionStyleModel",
      "_view_count": null,
      "_view_module": "@jupyter-widgets/base",
      "_view_module_version": "1.2.0",
      "_view_name": "StyleView",
      "description_width": ""
     }
    },
    "37101be367434be4bb18ecb2bee00ea3": {
     "model_module": "@jupyter-widgets/base",
     "model_name": "LayoutModel",
     "state": {
      "_model_module": "@jupyter-widgets/base",
      "_model_module_version": "1.2.0",
      "_model_name": "LayoutModel",
      "_view_count": null,
      "_view_module": "@jupyter-widgets/base",
      "_view_module_version": "1.2.0",
      "_view_name": "LayoutView",
      "align_content": null,
      "align_items": null,
      "align_self": null,
      "border": null,
      "bottom": null,
      "display": null,
      "flex": null,
      "flex_flow": null,
      "grid_area": null,
      "grid_auto_columns": null,
      "grid_auto_flow": null,
      "grid_auto_rows": null,
      "grid_column": null,
      "grid_gap": null,
      "grid_row": null,
      "grid_template_areas": null,
      "grid_template_columns": null,
      "grid_template_rows": null,
      "height": null,
      "justify_content": null,
      "justify_items": null,
      "left": null,
      "margin": null,
      "max_height": null,
      "max_width": null,
      "min_height": null,
      "min_width": null,
      "object_fit": null,
      "object_position": null,
      "order": null,
      "overflow": null,
      "overflow_x": null,
      "overflow_y": null,
      "padding": null,
      "right": null,
      "top": null,
      "visibility": null,
      "width": null
     }
    },
    "818bb6e740d148a4b5aafe4c147ed5da": {
     "model_module": "@jupyter-widgets/controls",
     "model_name": "DescriptionStyleModel",
     "state": {
      "_model_module": "@jupyter-widgets/controls",
      "_model_module_version": "1.5.0",
      "_model_name": "DescriptionStyleModel",
      "_view_count": null,
      "_view_module": "@jupyter-widgets/base",
      "_view_module_version": "1.2.0",
      "_view_name": "StyleView",
      "description_width": ""
     }
    },
    "bae4ac13de5d495e9df1bc11d87e3471": {
     "model_module": "@jupyter-widgets/controls",
     "model_name": "DropdownModel",
     "state": {
      "_dom_classes": [],
      "_model_module": "@jupyter-widgets/controls",
      "_model_module_version": "1.5.0",
      "_model_name": "DropdownModel",
      "_options_labels": [
       "0",
       "1",
       "2",
       "3",
       "4",
       "5",
       "6",
       "7",
       "8",
       "9",
       "10",
       "11",
       "12",
       "13",
       "14",
       "15",
       "16",
       "17",
       "18",
       "19",
       "20",
       "21",
       "22",
       "23",
       "24",
       "25",
       "26",
       "27"
      ],
      "_view_count": null,
      "_view_module": "@jupyter-widgets/controls",
      "_view_module_version": "1.5.0",
      "_view_name": "DropdownView",
      "description": "Congressional Districts:",
      "description_tooltip": null,
      "disabled": false,
      "index": 2,
      "layout": "IPY_MODEL_f9204df5df1d4adb84c391366be22bd7",
      "style": "IPY_MODEL_338f0e2a210c46d2ac3760164769b2b3"
     }
    },
    "c304022d16a54074a9084c1d5f8dddf0": {
     "model_module": "@jupyter-widgets/controls",
     "model_name": "DescriptionStyleModel",
     "state": {
      "_model_module": "@jupyter-widgets/controls",
      "_model_module_version": "1.5.0",
      "_model_name": "DescriptionStyleModel",
      "_view_count": null,
      "_view_module": "@jupyter-widgets/base",
      "_view_module_version": "1.2.0",
      "_view_name": "StyleView",
      "description_width": ""
     }
    },
    "ca97714c7e614177b4c80e276cb771f9": {
     "model_module": "@jupyter-widgets/controls",
     "model_name": "DropdownModel",
     "state": {
      "_dom_classes": [],
      "_model_module": "@jupyter-widgets/controls",
      "_model_module_version": "1.5.0",
      "_model_name": "DropdownModel",
      "_options_labels": [
       "AL",
       "AK",
       "AZ",
       "AR",
       "CA",
       "CO",
       "CT",
       "DC",
       "DE",
       "FL",
       "GA",
       "HI",
       "ID",
       "IL",
       "IN",
       "IA",
       "KS",
       "KY",
       "LA",
       "ME",
       "MD",
       "MA",
       "MI",
       "MN",
       "MS",
       "MO",
       "MT",
       "NE",
       "NV",
       "NH",
       "NJ",
       "NM",
       "NY",
       "NC",
       "ND",
       "OH",
       "OK",
       "OR",
       "PA",
       "RI",
       "SC",
       "SD",
       "TN",
       "TX",
       "UT",
       "VT",
       "VA",
       "WA",
       "WV",
       "WI",
       "WY"
      ],
      "_view_count": null,
      "_view_module": "@jupyter-widgets/controls",
      "_view_module_version": "1.5.0",
      "_view_name": "DropdownView",
      "description": "State:",
      "description_tooltip": null,
      "disabled": false,
      "index": 32,
      "layout": "IPY_MODEL_37101be367434be4bb18ecb2bee00ea3",
      "style": "IPY_MODEL_818bb6e740d148a4b5aafe4c147ed5da"
     }
    },
    "ce5934aca6924b3fbfcd5cf94dbbcde7": {
     "model_module": "@jupyter-widgets/controls",
     "model_name": "DropdownModel",
     "state": {
      "_dom_classes": [],
      "_model_module": "@jupyter-widgets/controls",
      "_model_module_version": "1.5.0",
      "_model_name": "DropdownModel",
      "_options_labels": [
       "ABBE LABORATORIES",
       "AFFINITY SKILLED LIVING STP",
       "BABYLON (T) SALT STORAGE FACILITY",
       "BERGEN POINT WWTP",
       "BIRCHWOOD ON THE GREEN",
       "BOHEMIA AUTO WASH",
       "BRENTWOOD LAUNDROMAT",
       "CANDLEWOOD LAUNDROMAT",
       "CLARION HOTEL",
       "DOWLING COLLEGE - OAKDALE CAMPUS",
       "EMERALD GREENS APARTMENTS",
       "EXPRESSWAY 55 CAR WASH",
       "FAIRWAY MANOR",
       "FIRE ISLAND FERRIES, INC.",
       "GREENVIEW COURT PRC",
       "GREENWOOD @ OAKDALE",
       "HAWTHORNE COURT",
       "HEATHERWOOD HOUSE @ LAKELAND",
       "HERITAGE GARDENS @ BRENTWOOD",
       "HILTON GARDEN INN & OFF BLDG",
       "HOME DEPOT #HD1285",
       "KABCO INC.",
       "LAUNDRY PALACE CI",
       "LEXINGTON VILLAGE CONDOMINIUM",
       "MACARTHUR PLAZA OFFICE PARK",
       "MAGELLAN AEROSPACE BOHEMIA",
       "NEW LAUNDRY CASTLE LLC",
       "OCEAN BEACH (V) STP",
       "QUAIL RUN HOMEOWNERS ASSOC",
       "R.P.M. MARINE, INC.",
       "RED APPLE LAUNDROMAT",
       "ROSS HEALTH CARE CENTER",
       "SADDLE COVE APARTMENTS",
       "SAYVILLE NURSING & REHABILITATION CTR",
       "STIMPSON CO INC",
       "SUNRISE GARDEN APARTMENTS",
       "SUNRISE VILLAGE",
       "TOWNE HOUSE VILLAGE SOUTH",
       "TROJAN METAL FABRICATION, INC",
       "US NONWOVENS CORP",
       "VALLEY FORGE MOBILE HOME PARK",
       "WATSON LABORATORIES  INC.",
       "WINDBROOKE HOMES CONDOMINIUMS"
      ],
      "_view_count": null,
      "_view_module": "@jupyter-widgets/controls",
      "_view_module_version": "1.5.0",
      "_view_name": "DropdownView",
      "description": "Facility Name:",
      "description_tooltip": null,
      "disabled": false,
      "index": 6,
      "layout": "IPY_MODEL_2697826eda1a4f389f320bfa83cf60a7",
      "style": "IPY_MODEL_c304022d16a54074a9084c1d5f8dddf0"
     }
    },
    "f9204df5df1d4adb84c391366be22bd7": {
     "model_module": "@jupyter-widgets/base",
     "model_name": "LayoutModel",
     "state": {
      "_model_module": "@jupyter-widgets/base",
      "_model_module_version": "1.2.0",
      "_model_name": "LayoutModel",
      "_view_count": null,
      "_view_module": "@jupyter-widgets/base",
      "_view_module_version": "1.2.0",
      "_view_name": "LayoutView",
      "align_content": null,
      "align_items": null,
      "align_self": null,
      "border": null,
      "bottom": null,
      "display": null,
      "flex": null,
      "flex_flow": null,
      "grid_area": null,
      "grid_auto_columns": null,
      "grid_auto_flow": null,
      "grid_auto_rows": null,
      "grid_column": null,
      "grid_gap": null,
      "grid_row": null,
      "grid_template_areas": null,
      "grid_template_columns": null,
      "grid_template_rows": null,
      "height": null,
      "justify_content": null,
      "justify_items": null,
      "left": null,
      "margin": null,
      "max_height": null,
      "max_width": null,
      "min_height": null,
      "min_width": null,
      "object_fit": null,
      "object_position": null,
      "order": null,
      "overflow": null,
      "overflow_x": null,
      "overflow_y": null,
      "padding": null,
      "right": null,
      "top": null,
      "visibility": null,
      "width": null
     }
    }
   }
  }
 },
 "nbformat": 4,
 "nbformat_minor": 4
}
