{
 "cells": [
  {
   "cell_type": "markdown",
   "metadata": {},
   "source": [
    "Note:  This notebook has widgets to select the state, congressional district and facility.  Those currently work only when the cells are run one at a time sequentially, not all at once."
   ]
  },
  {
   "cell_type": "markdown",
   "metadata": {},
   "source": [
    "## Clean Water Act Historic Compliance Violations\n",
    "\n",
    "This notebook examines ECHO data using NPDES_QNCR_HISTORY, \n",
    "which reports the number of non-compliance violations in\n",
    "four categories:\n",
    "1) Effluent (E90) violations\n",
    "2) Compliance schedule violagions,\n",
    "3) Single event violations\n",
    "4) Permit schedule violations\n",
    "\n",
    "A state and congressional district must be chosen."
   ]
  },
  {
   "cell_type": "code",
   "execution_count": 2,
   "metadata": {},
   "outputs": [],
   "source": [
    "# Import libraries\n",
    "import urllib.parse\n",
    "import pandas as pd\n",
    "import numpy as np\n",
    "import matplotlib.pyplot as plt\n",
    "%matplotlib inline\n",
    "import folium\n",
    "\n",
    "from ipywidgets import interact, interactive, fixed, interact_manual\n",
    "import ipywidgets as widgets\n",
    "from IPython.display import display\n",
    "\n"
   ]
  },
  {
   "cell_type": "code",
   "execution_count": 3,
   "metadata": {},
   "outputs": [
    {
     "name": "stdout",
     "output_type": "stream",
     "text": [
      "select FAC_STATE, NPDES_IDS, FAC_DERIVED_CD113 from ECHO_EXPORTER where NPDES_FLAG = 'Y'\n"
     ]
    }
   ],
   "source": [
    "\n",
    "sql = \"select FAC_STATE, NPDES_IDS, FAC_DERIVED_CD113 from ECHO_EXPORTER where NPDES_FLAG = 'Y'\"\n",
    "url='http://apps.tlt.stonybrook.edu/echoepa/?query='\n",
    "data_location=url+urllib.parse.quote(sql)\n",
    "print(sql)\n",
    "# print(data_location)\n"
   ]
  },
  {
   "cell_type": "code",
   "execution_count": 4,
   "metadata": {
    "scrolled": false
   },
   "outputs": [],
   "source": [
    "# exporter_data = \"data/echo_exporter_npdes.csv\" # Where the ECHO data resides\n",
    "# exporter_data = \"https://stevenehansen.com/EDGI/echo_exporter_npdes.csv\" # Where the ECHO data resides\n",
    "# echo_data = pd.read_csv(exporter_data, usecols = list(column_mapping.keys()), dtype=column_mapping)\n",
    "\n",
    "echo_data = pd.read_csv(data_location,encoding='iso-8859-1',header = 0)\n"
   ]
  },
  {
   "cell_type": "markdown",
   "metadata": {},
   "source": [
    "Run this next cell, select a state, and then run the following cell."
   ]
  },
  {
   "cell_type": "code",
   "execution_count": 6,
   "metadata": {},
   "outputs": [
    {
     "data": {
      "application/vnd.jupyter.widget-view+json": {
       "model_id": "b6912961210a44fb8089221d50da65ae",
       "version_major": 2,
       "version_minor": 0
      },
      "text/plain": [
       "Dropdown(description='State:', index=32, options=('AL', 'AK', 'AZ', 'AR', 'CA', 'CO', 'CT', 'DC', 'DE', 'FL', …"
      ]
     },
     "metadata": {},
     "output_type": "display_data"
    }
   ],
   "source": [
    "states = [\"AL\", \"AK\", \"AZ\", \"AR\", \"CA\", \"CO\", \"CT\", \"DC\", \"DE\", \"FL\", \"GA\", \n",
    "          \"HI\", \"ID\", \"IL\", \"IN\", \"IA\", \"KS\", \"KY\", \"LA\", \"ME\", \"MD\", \n",
    "          \"MA\", \"MI\", \"MN\", \"MS\", \"MO\", \"MT\", \"NE\", \"NV\", \"NH\", \"NJ\", \n",
    "          \"NM\", \"NY\", \"NC\", \"ND\", \"OH\", \"OK\", \"OR\", \"PA\", \"RI\", \"SC\", \n",
    "          \"SD\", \"TN\", \"TX\", \"UT\", \"VT\", \"VA\", \"WA\", \"WV\", \"WI\", \"WY\"]\n",
    "dropdown_state=widgets.Dropdown(\n",
    "    options=states,\n",
    "    value='NY',\n",
    "    description='State:',\n",
    "    disabled=False,\n",
    ")\n",
    "output_state = widgets.Output()\n",
    "my_state = \"\"\n",
    "\n",
    "def dropdown_state_eventhandler( change ):\n",
    "    output_state.clear_output()\n",
    "    value = change.new\n",
    "    with output_state:\n",
    "        display( change.new )\n",
    "        # if ( change.new == \"all\" ):\n",
    "        #     display( echo_data )\n",
    "        # else:\n",
    "        #     display( echo_data[echo_data[\"FAC_STATE\"] == change.new] )\n",
    "            \n",
    "dropdown_state.observe( dropdown_state_eventhandler, names='value')\n",
    "display( dropdown_state )"
   ]
  },
  {
   "cell_type": "markdown",
   "metadata": {},
   "source": [
    "Run this next cell after choosing a state from the dropdown list."
   ]
  },
  {
   "cell_type": "code",
   "execution_count": 7,
   "metadata": {},
   "outputs": [
    {
     "name": "stdout",
     "output_type": "stream",
     "text": [
      "There are 10202 NDIS facilities in NY tracked in the ECHO database.\n"
     ]
    }
   ],
   "source": [
    "my_state = dropdown_state.value\n",
    "my_state_facs = echo_data[echo_data[\"FAC_STATE\"] == my_state]\n",
    "\n",
    "num_facilities = my_state_facs.shape[0]\n",
    "print(\"There are %s NDIS facilities in %s tracked in the ECHO database.\" %(num_facilities, my_state))"
   ]
  },
  {
   "cell_type": "code",
   "execution_count": 22,
   "metadata": {},
   "outputs": [
    {
     "data": {
      "text/html": [
       "<div>\n",
       "<style scoped>\n",
       "    .dataframe tbody tr th:only-of-type {\n",
       "        vertical-align: middle;\n",
       "    }\n",
       "\n",
       "    .dataframe tbody tr th {\n",
       "        vertical-align: top;\n",
       "    }\n",
       "\n",
       "    .dataframe thead th {\n",
       "        text-align: right;\n",
       "    }\n",
       "</style>\n",
       "<table border=\"1\" class=\"dataframe\">\n",
       "  <thead>\n",
       "    <tr style=\"text-align: right;\">\n",
       "      <th></th>\n",
       "      <th>FAC_STATE</th>\n",
       "      <th>NPDES_IDS</th>\n",
       "      <th>FAC_DERIVED_CD113</th>\n",
       "    </tr>\n",
       "  </thead>\n",
       "  <tbody>\n",
       "    <tr>\n",
       "      <th>30</th>\n",
       "      <td>WA</td>\n",
       "      <td>WA0030074</td>\n",
       "      <td>7.0</td>\n",
       "    </tr>\n",
       "    <tr>\n",
       "      <th>84</th>\n",
       "      <td>WA</td>\n",
       "      <td>WAR307188</td>\n",
       "      <td>6.0</td>\n",
       "    </tr>\n",
       "    <tr>\n",
       "      <th>139</th>\n",
       "      <td>WA</td>\n",
       "      <td>WA0029351 WAL029351 WAU000005</td>\n",
       "      <td>8.0</td>\n",
       "    </tr>\n",
       "    <tr>\n",
       "      <th>367</th>\n",
       "      <td>WA</td>\n",
       "      <td>WAR002521</td>\n",
       "      <td>3.0</td>\n",
       "    </tr>\n",
       "    <tr>\n",
       "      <th>384</th>\n",
       "      <td>WA</td>\n",
       "      <td>WAR305691</td>\n",
       "      <td>2.0</td>\n",
       "    </tr>\n",
       "    <tr>\n",
       "      <th>...</th>\n",
       "      <td>...</td>\n",
       "      <td>...</td>\n",
       "      <td>...</td>\n",
       "    </tr>\n",
       "    <tr>\n",
       "      <th>600480</th>\n",
       "      <td>WA</td>\n",
       "      <td>WAR127195</td>\n",
       "      <td>5.0</td>\n",
       "    </tr>\n",
       "    <tr>\n",
       "      <th>600596</th>\n",
       "      <td>WA</td>\n",
       "      <td>WAR304506</td>\n",
       "      <td>4.0</td>\n",
       "    </tr>\n",
       "    <tr>\n",
       "      <th>600628</th>\n",
       "      <td>WA</td>\n",
       "      <td>WAR306236</td>\n",
       "      <td>10.0</td>\n",
       "    </tr>\n",
       "    <tr>\n",
       "      <th>600670</th>\n",
       "      <td>WA</td>\n",
       "      <td>WAP007438</td>\n",
       "      <td>1.0</td>\n",
       "    </tr>\n",
       "    <tr>\n",
       "      <th>600755</th>\n",
       "      <td>WA</td>\n",
       "      <td>WAR011451</td>\n",
       "      <td>6.0</td>\n",
       "    </tr>\n",
       "  </tbody>\n",
       "</table>\n",
       "<p>10007 rows × 3 columns</p>\n",
       "</div>"
      ],
      "text/plain": [
       "       FAC_STATE                      NPDES_IDS  FAC_DERIVED_CD113\n",
       "30            WA                      WA0030074                7.0\n",
       "84            WA                      WAR307188                6.0\n",
       "139           WA  WA0029351 WAL029351 WAU000005                8.0\n",
       "367           WA                      WAR002521                3.0\n",
       "384           WA                      WAR305691                2.0\n",
       "...          ...                            ...                ...\n",
       "600480        WA                      WAR127195                5.0\n",
       "600596        WA                      WAR304506                4.0\n",
       "600628        WA                      WAR306236               10.0\n",
       "600670        WA                      WAP007438                1.0\n",
       "600755        WA                      WAR011451                6.0\n",
       "\n",
       "[10007 rows x 3 columns]"
      ]
     },
     "execution_count": 22,
     "metadata": {},
     "output_type": "execute_result"
    }
   ],
   "source": [
    "my_state_facs"
   ]
  },
  {
   "cell_type": "markdown",
   "metadata": {},
   "source": [
    "Run this next cell to generate the Congressional District dropdown list for your state.  Then select a CD and run the following cell."
   ]
  },
  {
   "cell_type": "code",
   "execution_count": 8,
   "metadata": {},
   "outputs": [
    {
     "data": {
      "application/vnd.jupyter.widget-view+json": {
       "model_id": "c29b98843a70439c8e60ed5170602383",
       "version_major": 2,
       "version_minor": 0
      },
      "text/plain": [
       "Dropdown(description='Congressional Districts:', options=(0, 1, 2, 3, 4, 5, 6, 7, 8, 9, 10, 11, 12, 13, 14, 15…"
      ]
     },
     "metadata": {},
     "output_type": "display_data"
    }
   ],
   "source": [
    "if (( my_state != 'none' ) & (my_state != 'all' )):\n",
    "    cd_array = my_state_facs[\"FAC_DERIVED_CD113\"].fillna(0).astype(int).unique()\n",
    "    cd_array.sort()\n",
    "    w2=widgets.Dropdown(\n",
    "        options=cd_array,\n",
    "        value=0,\n",
    "        description='Congressional Districts:',\n",
    "        disabled=False,\n",
    "    )\n",
    "    display(w2)"
   ]
  },
  {
   "cell_type": "code",
   "execution_count": 9,
   "metadata": {},
   "outputs": [
    {
     "name": "stdout",
     "output_type": "stream",
     "text": [
      "There are 304 NDIS facilities in NY district 2 tracked in the ECHO database.\n"
     ]
    }
   ],
   "source": [
    "my_cd = w2.value\n",
    "my_cd_facs = my_state_facs[my_state_facs[\"FAC_DERIVED_CD113\"].fillna(0).astype(int) == my_cd]\n",
    "num_facilities = my_cd_facs.shape[0]    \n",
    "print(\"There are %s NDIS facilities in %s district %s tracked in the ECHO database.\" %(num_facilities, my_state, my_cd))"
   ]
  },
  {
   "cell_type": "markdown",
   "metadata": {},
   "source": [
    "Next look up the compliance violation history for the facilities in the selected\n",
    "state and congressional district.  This step may take awhile."
   ]
  },
  {
   "cell_type": "code",
   "execution_count": 13,
   "metadata": {},
   "outputs": [
    {
     "data": {
      "text/html": [
       "<div>\n",
       "<style scoped>\n",
       "    .dataframe tbody tr th:only-of-type {\n",
       "        vertical-align: middle;\n",
       "    }\n",
       "\n",
       "    .dataframe tbody tr th {\n",
       "        vertical-align: top;\n",
       "    }\n",
       "\n",
       "    .dataframe thead th {\n",
       "        text-align: right;\n",
       "    }\n",
       "</style>\n",
       "<table border=\"1\" class=\"dataframe\">\n",
       "  <thead>\n",
       "    <tr style=\"text-align: right;\">\n",
       "      <th></th>\n",
       "      <th>YEARQTR</th>\n",
       "      <th>NUME90Q</th>\n",
       "      <th>NUMCVDT</th>\n",
       "      <th>NUMSVCD</th>\n",
       "      <th>NUMPSCH</th>\n",
       "    </tr>\n",
       "    <tr>\n",
       "      <th>NPDES_ID</th>\n",
       "      <th></th>\n",
       "      <th></th>\n",
       "      <th></th>\n",
       "      <th></th>\n",
       "      <th></th>\n",
       "    </tr>\n",
       "  </thead>\n",
       "  <tbody>\n",
       "    <tr>\n",
       "      <th>AK0001058</th>\n",
       "      <td>20101</td>\n",
       "      <td>0</td>\n",
       "      <td>0</td>\n",
       "      <td>0</td>\n",
       "      <td>3</td>\n",
       "    </tr>\n",
       "    <tr>\n",
       "      <th>AK0001058</th>\n",
       "      <td>20102</td>\n",
       "      <td>0</td>\n",
       "      <td>0</td>\n",
       "      <td>0</td>\n",
       "      <td>3</td>\n",
       "    </tr>\n",
       "    <tr>\n",
       "      <th>AK0001058</th>\n",
       "      <td>20103</td>\n",
       "      <td>0</td>\n",
       "      <td>0</td>\n",
       "      <td>0</td>\n",
       "      <td>3</td>\n",
       "    </tr>\n",
       "    <tr>\n",
       "      <th>AK0001058</th>\n",
       "      <td>20104</td>\n",
       "      <td>0</td>\n",
       "      <td>0</td>\n",
       "      <td>0</td>\n",
       "      <td>3</td>\n",
       "    </tr>\n",
       "    <tr>\n",
       "      <th>AK0001058</th>\n",
       "      <td>20111</td>\n",
       "      <td>0</td>\n",
       "      <td>0</td>\n",
       "      <td>0</td>\n",
       "      <td>3</td>\n",
       "    </tr>\n",
       "    <tr>\n",
       "      <th>...</th>\n",
       "      <td>...</td>\n",
       "      <td>...</td>\n",
       "      <td>...</td>\n",
       "      <td>...</td>\n",
       "      <td>...</td>\n",
       "    </tr>\n",
       "    <tr>\n",
       "      <th>WYR320693</th>\n",
       "      <td>20162</td>\n",
       "      <td>0</td>\n",
       "      <td>0</td>\n",
       "      <td>0</td>\n",
       "      <td>0</td>\n",
       "    </tr>\n",
       "    <tr>\n",
       "      <th>WYR320693</th>\n",
       "      <td>20163</td>\n",
       "      <td>0</td>\n",
       "      <td>0</td>\n",
       "      <td>0</td>\n",
       "      <td>0</td>\n",
       "    </tr>\n",
       "    <tr>\n",
       "      <th>WYR320693</th>\n",
       "      <td>20164</td>\n",
       "      <td>0</td>\n",
       "      <td>0</td>\n",
       "      <td>0</td>\n",
       "      <td>0</td>\n",
       "    </tr>\n",
       "    <tr>\n",
       "      <th>WYR320693</th>\n",
       "      <td>20171</td>\n",
       "      <td>0</td>\n",
       "      <td>0</td>\n",
       "      <td>0</td>\n",
       "      <td>0</td>\n",
       "    </tr>\n",
       "    <tr>\n",
       "      <th>WYR320693</th>\n",
       "      <td>20172</td>\n",
       "      <td>0</td>\n",
       "      <td>0</td>\n",
       "      <td>0</td>\n",
       "      <td>0</td>\n",
       "    </tr>\n",
       "  </tbody>\n",
       "</table>\n",
       "<p>3526924 rows × 5 columns</p>\n",
       "</div>"
      ],
      "text/plain": [
       "           YEARQTR  NUME90Q  NUMCVDT  NUMSVCD  NUMPSCH\n",
       "NPDES_ID                                              \n",
       "AK0001058    20101        0        0        0        3\n",
       "AK0001058    20102        0        0        0        3\n",
       "AK0001058    20103        0        0        0        3\n",
       "AK0001058    20104        0        0        0        3\n",
       "AK0001058    20111        0        0        0        3\n",
       "...            ...      ...      ...      ...      ...\n",
       "WYR320693    20162        0        0        0        0\n",
       "WYR320693    20163        0        0        0        0\n",
       "WYR320693    20164        0        0        0        0\n",
       "WYR320693    20171        0        0        0        0\n",
       "WYR320693    20172        0        0        0        0\n",
       "\n",
       "[3526924 rows x 5 columns]"
      ]
     },
     "execution_count": 13,
     "metadata": {},
     "output_type": "execute_result"
    }
   ],
   "source": [
    "sql = \"select NPDES_ID, YEARQTR, NUME90Q, NUMCVDT, NUMSVCD, NUMPSCH\" + \\\n",
    "    \" from NPDES_QNCR_HISTORY where YEARQTR > 20100 and YEARQTR < 20200\"\n",
    "url='http://apps.tlt.stonybrook.edu/echoepa/?query='\n",
    "data_location=url+urllib.parse.quote(sql)\n",
    "# print(sql)\n",
    "\n",
    "qncr_data = pd.read_csv(data_location,header = 0)\n",
    "qncr_data.set_index( \"NPDES_ID\", inplace=True)\n",
    "qncr_data"
   ]
  },
  {
   "cell_type": "code",
   "execution_count": 14,
   "metadata": {},
   "outputs": [],
   "source": [
    "# The NDIS_IDS can contain multiple ids for a facility. \n",
    "# The string must be parsed to get each individual id to look up in NPDES_QNCR_HISTORY.\n",
    "\n",
    "my_cd_npdes = pd.DataFrame()\n",
    "no_data_ids = []\n",
    "for ids in my_cd_facs['NPDES_IDS']:\n",
    "    for npdes_id in ids.split():\n",
    "        try:\n",
    "            npdes_data = qncr_data.loc[ npdes_id ]\n",
    "            frames = [my_cd_npdes, npdes_data]\n",
    "            my_cd_npdes = pd.concat( frames )\n",
    "        except KeyError:\n",
    "            no_data_ids.append( npdes_id )\n"
   ]
  },
  {
   "cell_type": "code",
   "execution_count": 15,
   "metadata": {},
   "outputs": [],
   "source": [
    "my_cd_groups = my_cd_npdes.groupby( 'YEARQTR' )[['NUMCVDT','NUME90Q','NUMPSCH','NUMSVCD']].sum()"
   ]
  },
  {
   "cell_type": "markdown",
   "metadata": {},
   "source": [
    "NUMCVDT - (Number of Compliance Schedule Violations in Quarter) A count of the number of compliance schedule violations reported in the quarter, defined by YEARQTR.\n",
    "\n",
    "NUME90Q - (Number of E90 Violations in Quarter) A count of the number of effluent violations (E90) reported in the quarter, defined by YEARQTR.\n",
    "\n",
    "NUMPSCH - (Number of Permit Schedule Violations in Quarter) A count of the number of permit schedule violations reported in the quarter, defined by YEARQTR.\n",
    "\n",
    "NUMSVCD - (Number of Single Event Violations in Quarter) A count of the number of single event violations reported in the quarter, defined by PRHQRTR."
   ]
  },
  {
   "cell_type": "code",
   "execution_count": 16,
   "metadata": {
    "scrolled": true
   },
   "outputs": [
    {
     "data": {
      "text/plain": [
       "<matplotlib.axes._subplots.AxesSubplot at 0x7f1c3c837b50>"
      ]
     },
     "execution_count": 16,
     "metadata": {},
     "output_type": "execute_result"
    },
    {
     "data": {
      "image/png": "[encoded data removed]",
      "text/plain": [
       "<Figure size 1080x1080 with 1 Axes>"
      ]
     },
     "metadata": {
      "needs_background": "light"
     },
     "output_type": "display_data"
    }
   ],
   "source": [
    "fig, ax = plt.subplots(figsize=(15,15))\n",
    "my_cd_groups.plot(ax=ax)"
   ]
  },
  {
   "cell_type": "markdown",
   "metadata": {},
   "source": [
    "How is the number of effluent violations (NUME90Q) related to the number of permit schedule violations (NUMPSCH)?"
   ]
  }
 ],
 "metadata": {
  "kernelspec": {
   "display_name": "Python 3.7.5 64-bit ('base': conda)",
   "language": "python",
   "name": "python37564bitbaseconda7071e98414dd4b3880bf69a85f4101b4"
  },
  "language_info": {
   "codemirror_mode": {
    "name": "ipython",
    "version": 3
   },
   "file_extension": ".py",
   "mimetype": "text/x-python",
   "name": "python",
   "nbconvert_exporter": "python",
   "pygments_lexer": "ipython3",
   "version": "3.7.6"
  }
 },
 "nbformat": 4,
 "nbformat_minor": 4
}
